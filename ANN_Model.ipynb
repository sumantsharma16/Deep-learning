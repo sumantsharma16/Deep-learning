{
  "nbformat": 4,
  "nbformat_minor": 0,
  "metadata": {
    "colab": {
      "provenance": [],
      "authorship_tag": "ABX9TyM2CE732cwNFCnpfFRWuTDG",
      "include_colab_link": true
    },
    "kernelspec": {
      "name": "python3",
      "display_name": "Python 3"
    },
    "language_info": {
      "name": "python"
    }
  },
  "cells": [
    {
      "cell_type": "markdown",
      "metadata": {
        "id": "view-in-github",
        "colab_type": "text"
      },
      "source": [
        "<a href=\"https://colab.research.google.com/github/sumantsharma16/Deep-learning/blob/sumantsharma16-machinelearning/ANN_Model.ipynb\" target=\"_parent\"><img src=\"https://colab.research.google.com/assets/colab-badge.svg\" alt=\"Open In Colab\"/></a>"
      ]
    },
    {
      "cell_type": "code",
      "execution_count": 1,
      "metadata": {
        "colab": {
          "base_uri": "https://localhost:8080/"
        },
        "id": "wJ44SUyyt0Zn",
        "outputId": "f45e283f-d909-4298-888e-e37a7789558b"
      },
      "outputs": [
        {
          "output_type": "stream",
          "name": "stdout",
          "text": [
            "Looking in indexes: https://pypi.org/simple, https://us-python.pkg.dev/colab-wheels/public/simple/\n",
            "Collecting tensorflow-gpu\n",
            "  Downloading tensorflow_gpu-2.10.0-cp37-cp37m-manylinux_2_17_x86_64.manylinux2014_x86_64.whl (578.0 MB)\n",
            "\u001b[K     |████████████████████████████████| 578.0 MB 15 kB/s \n",
            "\u001b[?25hRequirement already satisfied: numpy>=1.20 in /usr/local/lib/python3.7/dist-packages (from tensorflow-gpu) (1.21.6)\n",
            "Collecting keras<2.11,>=2.10.0\n",
            "  Downloading keras-2.10.0-py2.py3-none-any.whl (1.7 MB)\n",
            "\u001b[K     |████████████████████████████████| 1.7 MB 49.2 MB/s \n",
            "\u001b[?25hRequirement already satisfied: libclang>=13.0.0 in /usr/local/lib/python3.7/dist-packages (from tensorflow-gpu) (14.0.6)\n",
            "Requirement already satisfied: tensorflow-io-gcs-filesystem>=0.23.1 in /usr/local/lib/python3.7/dist-packages (from tensorflow-gpu) (0.26.0)\n",
            "Collecting tensorboard<2.11,>=2.10\n",
            "  Downloading tensorboard-2.10.0-py3-none-any.whl (5.9 MB)\n",
            "\u001b[K     |████████████████████████████████| 5.9 MB 51.9 MB/s \n",
            "\u001b[?25hRequirement already satisfied: packaging in /usr/local/lib/python3.7/dist-packages (from tensorflow-gpu) (21.3)\n",
            "Requirement already satisfied: wrapt>=1.11.0 in /usr/local/lib/python3.7/dist-packages (from tensorflow-gpu) (1.14.1)\n",
            "Requirement already satisfied: protobuf<3.20,>=3.9.2 in /usr/local/lib/python3.7/dist-packages (from tensorflow-gpu) (3.17.3)\n",
            "Requirement already satisfied: typing-extensions>=3.6.6 in /usr/local/lib/python3.7/dist-packages (from tensorflow-gpu) (4.1.1)\n",
            "Requirement already satisfied: absl-py>=1.0.0 in /usr/local/lib/python3.7/dist-packages (from tensorflow-gpu) (1.2.0)\n",
            "Requirement already satisfied: six>=1.12.0 in /usr/local/lib/python3.7/dist-packages (from tensorflow-gpu) (1.15.0)\n",
            "Requirement already satisfied: termcolor>=1.1.0 in /usr/local/lib/python3.7/dist-packages (from tensorflow-gpu) (1.1.0)\n",
            "Collecting gast<=0.4.0,>=0.2.1\n",
            "  Downloading gast-0.4.0-py3-none-any.whl (9.8 kB)\n",
            "Requirement already satisfied: setuptools in /usr/local/lib/python3.7/dist-packages (from tensorflow-gpu) (57.4.0)\n",
            "Requirement already satisfied: keras-preprocessing>=1.1.1 in /usr/local/lib/python3.7/dist-packages (from tensorflow-gpu) (1.1.2)\n",
            "Collecting tensorflow-estimator<2.11,>=2.10.0\n",
            "  Downloading tensorflow_estimator-2.10.0-py2.py3-none-any.whl (438 kB)\n",
            "\u001b[K     |████████████████████████████████| 438 kB 57.5 MB/s \n",
            "\u001b[?25hRequirement already satisfied: flatbuffers>=2.0 in /usr/local/lib/python3.7/dist-packages (from tensorflow-gpu) (2.0.7)\n",
            "Requirement already satisfied: opt-einsum>=2.3.2 in /usr/local/lib/python3.7/dist-packages (from tensorflow-gpu) (3.3.0)\n",
            "Requirement already satisfied: grpcio<2.0,>=1.24.3 in /usr/local/lib/python3.7/dist-packages (from tensorflow-gpu) (1.48.1)\n",
            "Requirement already satisfied: google-pasta>=0.1.1 in /usr/local/lib/python3.7/dist-packages (from tensorflow-gpu) (0.2.0)\n",
            "Requirement already satisfied: h5py>=2.9.0 in /usr/local/lib/python3.7/dist-packages (from tensorflow-gpu) (3.1.0)\n",
            "Requirement already satisfied: astunparse>=1.6.0 in /usr/local/lib/python3.7/dist-packages (from tensorflow-gpu) (1.6.3)\n",
            "Requirement already satisfied: wheel<1.0,>=0.23.0 in /usr/local/lib/python3.7/dist-packages (from astunparse>=1.6.0->tensorflow-gpu) (0.37.1)\n",
            "Requirement already satisfied: cached-property in /usr/local/lib/python3.7/dist-packages (from h5py>=2.9.0->tensorflow-gpu) (1.5.2)\n",
            "Requirement already satisfied: tensorboard-data-server<0.7.0,>=0.6.0 in /usr/local/lib/python3.7/dist-packages (from tensorboard<2.11,>=2.10->tensorflow-gpu) (0.6.1)\n",
            "Requirement already satisfied: werkzeug>=1.0.1 in /usr/local/lib/python3.7/dist-packages (from tensorboard<2.11,>=2.10->tensorflow-gpu) (1.0.1)\n",
            "Requirement already satisfied: google-auth-oauthlib<0.5,>=0.4.1 in /usr/local/lib/python3.7/dist-packages (from tensorboard<2.11,>=2.10->tensorflow-gpu) (0.4.6)\n",
            "Requirement already satisfied: markdown>=2.6.8 in /usr/local/lib/python3.7/dist-packages (from tensorboard<2.11,>=2.10->tensorflow-gpu) (3.4.1)\n",
            "Requirement already satisfied: tensorboard-plugin-wit>=1.6.0 in /usr/local/lib/python3.7/dist-packages (from tensorboard<2.11,>=2.10->tensorflow-gpu) (1.8.1)\n",
            "Requirement already satisfied: requests<3,>=2.21.0 in /usr/local/lib/python3.7/dist-packages (from tensorboard<2.11,>=2.10->tensorflow-gpu) (2.23.0)\n",
            "Requirement already satisfied: google-auth<3,>=1.6.3 in /usr/local/lib/python3.7/dist-packages (from tensorboard<2.11,>=2.10->tensorflow-gpu) (1.35.0)\n",
            "Requirement already satisfied: cachetools<5.0,>=2.0.0 in /usr/local/lib/python3.7/dist-packages (from google-auth<3,>=1.6.3->tensorboard<2.11,>=2.10->tensorflow-gpu) (4.2.4)\n",
            "Requirement already satisfied: rsa<5,>=3.1.4 in /usr/local/lib/python3.7/dist-packages (from google-auth<3,>=1.6.3->tensorboard<2.11,>=2.10->tensorflow-gpu) (4.9)\n",
            "Requirement already satisfied: pyasn1-modules>=0.2.1 in /usr/local/lib/python3.7/dist-packages (from google-auth<3,>=1.6.3->tensorboard<2.11,>=2.10->tensorflow-gpu) (0.2.8)\n",
            "Requirement already satisfied: requests-oauthlib>=0.7.0 in /usr/local/lib/python3.7/dist-packages (from google-auth-oauthlib<0.5,>=0.4.1->tensorboard<2.11,>=2.10->tensorflow-gpu) (1.3.1)\n",
            "Requirement already satisfied: importlib-metadata>=4.4 in /usr/local/lib/python3.7/dist-packages (from markdown>=2.6.8->tensorboard<2.11,>=2.10->tensorflow-gpu) (4.12.0)\n",
            "Requirement already satisfied: zipp>=0.5 in /usr/local/lib/python3.7/dist-packages (from importlib-metadata>=4.4->markdown>=2.6.8->tensorboard<2.11,>=2.10->tensorflow-gpu) (3.8.1)\n",
            "Requirement already satisfied: pyasn1<0.5.0,>=0.4.6 in /usr/local/lib/python3.7/dist-packages (from pyasn1-modules>=0.2.1->google-auth<3,>=1.6.3->tensorboard<2.11,>=2.10->tensorflow-gpu) (0.4.8)\n",
            "Requirement already satisfied: chardet<4,>=3.0.2 in /usr/local/lib/python3.7/dist-packages (from requests<3,>=2.21.0->tensorboard<2.11,>=2.10->tensorflow-gpu) (3.0.4)\n",
            "Requirement already satisfied: urllib3!=1.25.0,!=1.25.1,<1.26,>=1.21.1 in /usr/local/lib/python3.7/dist-packages (from requests<3,>=2.21.0->tensorboard<2.11,>=2.10->tensorflow-gpu) (1.24.3)\n",
            "Requirement already satisfied: idna<3,>=2.5 in /usr/local/lib/python3.7/dist-packages (from requests<3,>=2.21.0->tensorboard<2.11,>=2.10->tensorflow-gpu) (2.10)\n",
            "Requirement already satisfied: certifi>=2017.4.17 in /usr/local/lib/python3.7/dist-packages (from requests<3,>=2.21.0->tensorboard<2.11,>=2.10->tensorflow-gpu) (2022.6.15)\n",
            "Requirement already satisfied: oauthlib>=3.0.0 in /usr/local/lib/python3.7/dist-packages (from requests-oauthlib>=0.7.0->google-auth-oauthlib<0.5,>=0.4.1->tensorboard<2.11,>=2.10->tensorflow-gpu) (3.2.0)\n",
            "Requirement already satisfied: pyparsing!=3.0.5,>=2.0.2 in /usr/local/lib/python3.7/dist-packages (from packaging->tensorflow-gpu) (3.0.9)\n",
            "Installing collected packages: tensorflow-estimator, tensorboard, keras, gast, tensorflow-gpu\n",
            "  Attempting uninstall: tensorflow-estimator\n",
            "    Found existing installation: tensorflow-estimator 2.8.0\n",
            "    Uninstalling tensorflow-estimator-2.8.0:\n",
            "      Successfully uninstalled tensorflow-estimator-2.8.0\n",
            "  Attempting uninstall: tensorboard\n",
            "    Found existing installation: tensorboard 2.8.0\n",
            "    Uninstalling tensorboard-2.8.0:\n",
            "      Successfully uninstalled tensorboard-2.8.0\n",
            "  Attempting uninstall: keras\n",
            "    Found existing installation: keras 2.8.0\n",
            "    Uninstalling keras-2.8.0:\n",
            "      Successfully uninstalled keras-2.8.0\n",
            "  Attempting uninstall: gast\n",
            "    Found existing installation: gast 0.5.3\n",
            "    Uninstalling gast-0.5.3:\n",
            "      Successfully uninstalled gast-0.5.3\n",
            "\u001b[31mERROR: pip's dependency resolver does not currently take into account all the packages that are installed. This behaviour is the source of the following dependency conflicts.\n",
            "tensorflow 2.8.2+zzzcolab20220719082949 requires keras<2.9,>=2.8.0rc0, but you have keras 2.10.0 which is incompatible.\n",
            "tensorflow 2.8.2+zzzcolab20220719082949 requires tensorboard<2.9,>=2.8, but you have tensorboard 2.10.0 which is incompatible.\n",
            "tensorflow 2.8.2+zzzcolab20220719082949 requires tensorflow-estimator<2.9,>=2.8, but you have tensorflow-estimator 2.10.0 which is incompatible.\u001b[0m\n",
            "Successfully installed gast-0.4.0 keras-2.10.0 tensorboard-2.10.0 tensorflow-estimator-2.10.0 tensorflow-gpu-2.10.0\n"
          ]
        }
      ],
      "source": [
        "!pip install tensorflow-gpu"
      ]
    },
    {
      "cell_type": "code",
      "source": [
        "import pandas as pd\n",
        "import numpy as np\n",
        "import matplotlib.pyplot as plt"
      ],
      "metadata": {
        "id": "_iaJnGF2t_aq"
      },
      "execution_count": 2,
      "outputs": []
    },
    {
      "cell_type": "code",
      "source": [
        "dataset=pd.read_csv('/content/Churn_Modelling.csv')"
      ],
      "metadata": {
        "id": "Ep9msyLruWIQ"
      },
      "execution_count": 3,
      "outputs": []
    },
    {
      "cell_type": "code",
      "source": [
        "dataset.head()"
      ],
      "metadata": {
        "colab": {
          "base_uri": "https://localhost:8080/",
          "height": 206
        },
        "id": "-4nTAkKZvANG",
        "outputId": "0e1edf27-1beb-40df-c8bb-a0dbcfc28b76"
      },
      "execution_count": 4,
      "outputs": [
        {
          "output_type": "execute_result",
          "data": {
            "text/plain": [
              "   RowNumber  CustomerId   Surname  CreditScore Geography  Gender  Age  \\\n",
              "0          1    15634602  Hargrave          619    France  Female   42   \n",
              "1          2    15647311      Hill          608     Spain  Female   41   \n",
              "2          3    15619304      Onio          502    France  Female   42   \n",
              "3          4    15701354      Boni          699    France  Female   39   \n",
              "4          5    15737888  Mitchell          850     Spain  Female   43   \n",
              "\n",
              "   Tenure    Balance  NumOfProducts  HasCrCard  IsActiveMember  \\\n",
              "0       2       0.00              1          1               1   \n",
              "1       1   83807.86              1          0               1   \n",
              "2       8  159660.80              3          1               0   \n",
              "3       1       0.00              2          0               0   \n",
              "4       2  125510.82              1          1               1   \n",
              "\n",
              "   EstimatedSalary  Exited  \n",
              "0        101348.88       1  \n",
              "1        112542.58       0  \n",
              "2        113931.57       1  \n",
              "3         93826.63       0  \n",
              "4         79084.10       0  "
            ],
            "text/html": [
              "\n",
              "  <div id=\"df-fc489720-5d95-4bcd-ad2e-38ffdf9a52c7\">\n",
              "    <div class=\"colab-df-container\">\n",
              "      <div>\n",
              "<style scoped>\n",
              "    .dataframe tbody tr th:only-of-type {\n",
              "        vertical-align: middle;\n",
              "    }\n",
              "\n",
              "    .dataframe tbody tr th {\n",
              "        vertical-align: top;\n",
              "    }\n",
              "\n",
              "    .dataframe thead th {\n",
              "        text-align: right;\n",
              "    }\n",
              "</style>\n",
              "<table border=\"1\" class=\"dataframe\">\n",
              "  <thead>\n",
              "    <tr style=\"text-align: right;\">\n",
              "      <th></th>\n",
              "      <th>RowNumber</th>\n",
              "      <th>CustomerId</th>\n",
              "      <th>Surname</th>\n",
              "      <th>CreditScore</th>\n",
              "      <th>Geography</th>\n",
              "      <th>Gender</th>\n",
              "      <th>Age</th>\n",
              "      <th>Tenure</th>\n",
              "      <th>Balance</th>\n",
              "      <th>NumOfProducts</th>\n",
              "      <th>HasCrCard</th>\n",
              "      <th>IsActiveMember</th>\n",
              "      <th>EstimatedSalary</th>\n",
              "      <th>Exited</th>\n",
              "    </tr>\n",
              "  </thead>\n",
              "  <tbody>\n",
              "    <tr>\n",
              "      <th>0</th>\n",
              "      <td>1</td>\n",
              "      <td>15634602</td>\n",
              "      <td>Hargrave</td>\n",
              "      <td>619</td>\n",
              "      <td>France</td>\n",
              "      <td>Female</td>\n",
              "      <td>42</td>\n",
              "      <td>2</td>\n",
              "      <td>0.00</td>\n",
              "      <td>1</td>\n",
              "      <td>1</td>\n",
              "      <td>1</td>\n",
              "      <td>101348.88</td>\n",
              "      <td>1</td>\n",
              "    </tr>\n",
              "    <tr>\n",
              "      <th>1</th>\n",
              "      <td>2</td>\n",
              "      <td>15647311</td>\n",
              "      <td>Hill</td>\n",
              "      <td>608</td>\n",
              "      <td>Spain</td>\n",
              "      <td>Female</td>\n",
              "      <td>41</td>\n",
              "      <td>1</td>\n",
              "      <td>83807.86</td>\n",
              "      <td>1</td>\n",
              "      <td>0</td>\n",
              "      <td>1</td>\n",
              "      <td>112542.58</td>\n",
              "      <td>0</td>\n",
              "    </tr>\n",
              "    <tr>\n",
              "      <th>2</th>\n",
              "      <td>3</td>\n",
              "      <td>15619304</td>\n",
              "      <td>Onio</td>\n",
              "      <td>502</td>\n",
              "      <td>France</td>\n",
              "      <td>Female</td>\n",
              "      <td>42</td>\n",
              "      <td>8</td>\n",
              "      <td>159660.80</td>\n",
              "      <td>3</td>\n",
              "      <td>1</td>\n",
              "      <td>0</td>\n",
              "      <td>113931.57</td>\n",
              "      <td>1</td>\n",
              "    </tr>\n",
              "    <tr>\n",
              "      <th>3</th>\n",
              "      <td>4</td>\n",
              "      <td>15701354</td>\n",
              "      <td>Boni</td>\n",
              "      <td>699</td>\n",
              "      <td>France</td>\n",
              "      <td>Female</td>\n",
              "      <td>39</td>\n",
              "      <td>1</td>\n",
              "      <td>0.00</td>\n",
              "      <td>2</td>\n",
              "      <td>0</td>\n",
              "      <td>0</td>\n",
              "      <td>93826.63</td>\n",
              "      <td>0</td>\n",
              "    </tr>\n",
              "    <tr>\n",
              "      <th>4</th>\n",
              "      <td>5</td>\n",
              "      <td>15737888</td>\n",
              "      <td>Mitchell</td>\n",
              "      <td>850</td>\n",
              "      <td>Spain</td>\n",
              "      <td>Female</td>\n",
              "      <td>43</td>\n",
              "      <td>2</td>\n",
              "      <td>125510.82</td>\n",
              "      <td>1</td>\n",
              "      <td>1</td>\n",
              "      <td>1</td>\n",
              "      <td>79084.10</td>\n",
              "      <td>0</td>\n",
              "    </tr>\n",
              "  </tbody>\n",
              "</table>\n",
              "</div>\n",
              "      <button class=\"colab-df-convert\" onclick=\"convertToInteractive('df-fc489720-5d95-4bcd-ad2e-38ffdf9a52c7')\"\n",
              "              title=\"Convert this dataframe to an interactive table.\"\n",
              "              style=\"display:none;\">\n",
              "        \n",
              "  <svg xmlns=\"http://www.w3.org/2000/svg\" height=\"24px\"viewBox=\"0 0 24 24\"\n",
              "       width=\"24px\">\n",
              "    <path d=\"M0 0h24v24H0V0z\" fill=\"none\"/>\n",
              "    <path d=\"M18.56 5.44l.94 2.06.94-2.06 2.06-.94-2.06-.94-.94-2.06-.94 2.06-2.06.94zm-11 1L8.5 8.5l.94-2.06 2.06-.94-2.06-.94L8.5 2.5l-.94 2.06-2.06.94zm10 10l.94 2.06.94-2.06 2.06-.94-2.06-.94-.94-2.06-.94 2.06-2.06.94z\"/><path d=\"M17.41 7.96l-1.37-1.37c-.4-.4-.92-.59-1.43-.59-.52 0-1.04.2-1.43.59L10.3 9.45l-7.72 7.72c-.78.78-.78 2.05 0 2.83L4 21.41c.39.39.9.59 1.41.59.51 0 1.02-.2 1.41-.59l7.78-7.78 2.81-2.81c.8-.78.8-2.07 0-2.86zM5.41 20L4 18.59l7.72-7.72 1.47 1.35L5.41 20z\"/>\n",
              "  </svg>\n",
              "      </button>\n",
              "      \n",
              "  <style>\n",
              "    .colab-df-container {\n",
              "      display:flex;\n",
              "      flex-wrap:wrap;\n",
              "      gap: 12px;\n",
              "    }\n",
              "\n",
              "    .colab-df-convert {\n",
              "      background-color: #E8F0FE;\n",
              "      border: none;\n",
              "      border-radius: 50%;\n",
              "      cursor: pointer;\n",
              "      display: none;\n",
              "      fill: #1967D2;\n",
              "      height: 32px;\n",
              "      padding: 0 0 0 0;\n",
              "      width: 32px;\n",
              "    }\n",
              "\n",
              "    .colab-df-convert:hover {\n",
              "      background-color: #E2EBFA;\n",
              "      box-shadow: 0px 1px 2px rgba(60, 64, 67, 0.3), 0px 1px 3px 1px rgba(60, 64, 67, 0.15);\n",
              "      fill: #174EA6;\n",
              "    }\n",
              "\n",
              "    [theme=dark] .colab-df-convert {\n",
              "      background-color: #3B4455;\n",
              "      fill: #D2E3FC;\n",
              "    }\n",
              "\n",
              "    [theme=dark] .colab-df-convert:hover {\n",
              "      background-color: #434B5C;\n",
              "      box-shadow: 0px 1px 3px 1px rgba(0, 0, 0, 0.15);\n",
              "      filter: drop-shadow(0px 1px 2px rgba(0, 0, 0, 0.3));\n",
              "      fill: #FFFFFF;\n",
              "    }\n",
              "  </style>\n",
              "\n",
              "      <script>\n",
              "        const buttonEl =\n",
              "          document.querySelector('#df-fc489720-5d95-4bcd-ad2e-38ffdf9a52c7 button.colab-df-convert');\n",
              "        buttonEl.style.display =\n",
              "          google.colab.kernel.accessAllowed ? 'block' : 'none';\n",
              "\n",
              "        async function convertToInteractive(key) {\n",
              "          const element = document.querySelector('#df-fc489720-5d95-4bcd-ad2e-38ffdf9a52c7');\n",
              "          const dataTable =\n",
              "            await google.colab.kernel.invokeFunction('convertToInteractive',\n",
              "                                                     [key], {});\n",
              "          if (!dataTable) return;\n",
              "\n",
              "          const docLinkHtml = 'Like what you see? Visit the ' +\n",
              "            '<a target=\"_blank\" href=https://colab.research.google.com/notebooks/data_table.ipynb>data table notebook</a>'\n",
              "            + ' to learn more about interactive tables.';\n",
              "          element.innerHTML = '';\n",
              "          dataTable['output_type'] = 'display_data';\n",
              "          await google.colab.output.renderOutput(dataTable, element);\n",
              "          const docLink = document.createElement('div');\n",
              "          docLink.innerHTML = docLinkHtml;\n",
              "          element.appendChild(docLink);\n",
              "        }\n",
              "      </script>\n",
              "    </div>\n",
              "  </div>\n",
              "  "
            ]
          },
          "metadata": {},
          "execution_count": 4
        }
      ]
    },
    {
      "cell_type": "code",
      "source": [
        "dataset.info()"
      ],
      "metadata": {
        "colab": {
          "base_uri": "https://localhost:8080/"
        },
        "id": "40-KASpevCiU",
        "outputId": "90c23ad0-1305-4706-e4d9-70a005fc46d8"
      },
      "execution_count": 5,
      "outputs": [
        {
          "output_type": "stream",
          "name": "stdout",
          "text": [
            "<class 'pandas.core.frame.DataFrame'>\n",
            "RangeIndex: 10000 entries, 0 to 9999\n",
            "Data columns (total 14 columns):\n",
            " #   Column           Non-Null Count  Dtype  \n",
            "---  ------           --------------  -----  \n",
            " 0   RowNumber        10000 non-null  int64  \n",
            " 1   CustomerId       10000 non-null  int64  \n",
            " 2   Surname          10000 non-null  object \n",
            " 3   CreditScore      10000 non-null  int64  \n",
            " 4   Geography        10000 non-null  object \n",
            " 5   Gender           10000 non-null  object \n",
            " 6   Age              10000 non-null  int64  \n",
            " 7   Tenure           10000 non-null  int64  \n",
            " 8   Balance          10000 non-null  float64\n",
            " 9   NumOfProducts    10000 non-null  int64  \n",
            " 10  HasCrCard        10000 non-null  int64  \n",
            " 11  IsActiveMember   10000 non-null  int64  \n",
            " 12  EstimatedSalary  10000 non-null  float64\n",
            " 13  Exited           10000 non-null  int64  \n",
            "dtypes: float64(2), int64(9), object(3)\n",
            "memory usage: 1.1+ MB\n"
          ]
        }
      ]
    },
    {
      "cell_type": "code",
      "source": [
        "# divide the dataset into dependent and independet features\n",
        "x = dataset.iloc[:,3:13]\n",
        "y = dataset.iloc[:,13]"
      ],
      "metadata": {
        "id": "Fk7PggAxvSN1"
      },
      "execution_count": 6,
      "outputs": []
    },
    {
      "cell_type": "code",
      "source": [
        "print(x)"
      ],
      "metadata": {
        "colab": {
          "base_uri": "https://localhost:8080/"
        },
        "id": "yV6RxuE7v4L-",
        "outputId": "7e05e24e-1791-4326-83c8-067486547e5a"
      },
      "execution_count": 7,
      "outputs": [
        {
          "output_type": "stream",
          "name": "stdout",
          "text": [
            "      CreditScore Geography  Gender  Age  Tenure    Balance  NumOfProducts  \\\n",
            "0             619    France  Female   42       2       0.00              1   \n",
            "1             608     Spain  Female   41       1   83807.86              1   \n",
            "2             502    France  Female   42       8  159660.80              3   \n",
            "3             699    France  Female   39       1       0.00              2   \n",
            "4             850     Spain  Female   43       2  125510.82              1   \n",
            "...           ...       ...     ...  ...     ...        ...            ...   \n",
            "9995          771    France    Male   39       5       0.00              2   \n",
            "9996          516    France    Male   35      10   57369.61              1   \n",
            "9997          709    France  Female   36       7       0.00              1   \n",
            "9998          772   Germany    Male   42       3   75075.31              2   \n",
            "9999          792    France  Female   28       4  130142.79              1   \n",
            "\n",
            "      HasCrCard  IsActiveMember  EstimatedSalary  \n",
            "0             1               1        101348.88  \n",
            "1             0               1        112542.58  \n",
            "2             1               0        113931.57  \n",
            "3             0               0         93826.63  \n",
            "4             1               1         79084.10  \n",
            "...         ...             ...              ...  \n",
            "9995          1               0         96270.64  \n",
            "9996          1               1        101699.77  \n",
            "9997          0               1         42085.58  \n",
            "9998          1               0         92888.52  \n",
            "9999          1               0         38190.78  \n",
            "\n",
            "[10000 rows x 10 columns]\n"
          ]
        }
      ]
    },
    {
      "cell_type": "code",
      "source": [
        "print(y)"
      ],
      "metadata": {
        "colab": {
          "base_uri": "https://localhost:8080/"
        },
        "id": "37CKerEuv6e2",
        "outputId": "5b05a41a-dbac-4bed-a84a-aa153a26309e"
      },
      "execution_count": 8,
      "outputs": [
        {
          "output_type": "stream",
          "name": "stdout",
          "text": [
            "0       1\n",
            "1       0\n",
            "2       1\n",
            "3       0\n",
            "4       0\n",
            "       ..\n",
            "9995    0\n",
            "9996    0\n",
            "9997    1\n",
            "9998    1\n",
            "9999    0\n",
            "Name: Exited, Length: 10000, dtype: int64\n"
          ]
        }
      ]
    },
    {
      "cell_type": "code",
      "source": [
        "x.head()"
      ],
      "metadata": {
        "colab": {
          "base_uri": "https://localhost:8080/",
          "height": 206
        },
        "id": "niBnYAu-wT4V",
        "outputId": "67dfeb94-80a1-4306-8a7f-633216259e8f"
      },
      "execution_count": 9,
      "outputs": [
        {
          "output_type": "execute_result",
          "data": {
            "text/plain": [
              "   CreditScore Geography  Gender  Age  Tenure    Balance  NumOfProducts  \\\n",
              "0          619    France  Female   42       2       0.00              1   \n",
              "1          608     Spain  Female   41       1   83807.86              1   \n",
              "2          502    France  Female   42       8  159660.80              3   \n",
              "3          699    France  Female   39       1       0.00              2   \n",
              "4          850     Spain  Female   43       2  125510.82              1   \n",
              "\n",
              "   HasCrCard  IsActiveMember  EstimatedSalary  \n",
              "0          1               1        101348.88  \n",
              "1          0               1        112542.58  \n",
              "2          1               0        113931.57  \n",
              "3          0               0         93826.63  \n",
              "4          1               1         79084.10  "
            ],
            "text/html": [
              "\n",
              "  <div id=\"df-c04b51ff-2ad3-444c-938b-ea28e3a69538\">\n",
              "    <div class=\"colab-df-container\">\n",
              "      <div>\n",
              "<style scoped>\n",
              "    .dataframe tbody tr th:only-of-type {\n",
              "        vertical-align: middle;\n",
              "    }\n",
              "\n",
              "    .dataframe tbody tr th {\n",
              "        vertical-align: top;\n",
              "    }\n",
              "\n",
              "    .dataframe thead th {\n",
              "        text-align: right;\n",
              "    }\n",
              "</style>\n",
              "<table border=\"1\" class=\"dataframe\">\n",
              "  <thead>\n",
              "    <tr style=\"text-align: right;\">\n",
              "      <th></th>\n",
              "      <th>CreditScore</th>\n",
              "      <th>Geography</th>\n",
              "      <th>Gender</th>\n",
              "      <th>Age</th>\n",
              "      <th>Tenure</th>\n",
              "      <th>Balance</th>\n",
              "      <th>NumOfProducts</th>\n",
              "      <th>HasCrCard</th>\n",
              "      <th>IsActiveMember</th>\n",
              "      <th>EstimatedSalary</th>\n",
              "    </tr>\n",
              "  </thead>\n",
              "  <tbody>\n",
              "    <tr>\n",
              "      <th>0</th>\n",
              "      <td>619</td>\n",
              "      <td>France</td>\n",
              "      <td>Female</td>\n",
              "      <td>42</td>\n",
              "      <td>2</td>\n",
              "      <td>0.00</td>\n",
              "      <td>1</td>\n",
              "      <td>1</td>\n",
              "      <td>1</td>\n",
              "      <td>101348.88</td>\n",
              "    </tr>\n",
              "    <tr>\n",
              "      <th>1</th>\n",
              "      <td>608</td>\n",
              "      <td>Spain</td>\n",
              "      <td>Female</td>\n",
              "      <td>41</td>\n",
              "      <td>1</td>\n",
              "      <td>83807.86</td>\n",
              "      <td>1</td>\n",
              "      <td>0</td>\n",
              "      <td>1</td>\n",
              "      <td>112542.58</td>\n",
              "    </tr>\n",
              "    <tr>\n",
              "      <th>2</th>\n",
              "      <td>502</td>\n",
              "      <td>France</td>\n",
              "      <td>Female</td>\n",
              "      <td>42</td>\n",
              "      <td>8</td>\n",
              "      <td>159660.80</td>\n",
              "      <td>3</td>\n",
              "      <td>1</td>\n",
              "      <td>0</td>\n",
              "      <td>113931.57</td>\n",
              "    </tr>\n",
              "    <tr>\n",
              "      <th>3</th>\n",
              "      <td>699</td>\n",
              "      <td>France</td>\n",
              "      <td>Female</td>\n",
              "      <td>39</td>\n",
              "      <td>1</td>\n",
              "      <td>0.00</td>\n",
              "      <td>2</td>\n",
              "      <td>0</td>\n",
              "      <td>0</td>\n",
              "      <td>93826.63</td>\n",
              "    </tr>\n",
              "    <tr>\n",
              "      <th>4</th>\n",
              "      <td>850</td>\n",
              "      <td>Spain</td>\n",
              "      <td>Female</td>\n",
              "      <td>43</td>\n",
              "      <td>2</td>\n",
              "      <td>125510.82</td>\n",
              "      <td>1</td>\n",
              "      <td>1</td>\n",
              "      <td>1</td>\n",
              "      <td>79084.10</td>\n",
              "    </tr>\n",
              "  </tbody>\n",
              "</table>\n",
              "</div>\n",
              "      <button class=\"colab-df-convert\" onclick=\"convertToInteractive('df-c04b51ff-2ad3-444c-938b-ea28e3a69538')\"\n",
              "              title=\"Convert this dataframe to an interactive table.\"\n",
              "              style=\"display:none;\">\n",
              "        \n",
              "  <svg xmlns=\"http://www.w3.org/2000/svg\" height=\"24px\"viewBox=\"0 0 24 24\"\n",
              "       width=\"24px\">\n",
              "    <path d=\"M0 0h24v24H0V0z\" fill=\"none\"/>\n",
              "    <path d=\"M18.56 5.44l.94 2.06.94-2.06 2.06-.94-2.06-.94-.94-2.06-.94 2.06-2.06.94zm-11 1L8.5 8.5l.94-2.06 2.06-.94-2.06-.94L8.5 2.5l-.94 2.06-2.06.94zm10 10l.94 2.06.94-2.06 2.06-.94-2.06-.94-.94-2.06-.94 2.06-2.06.94z\"/><path d=\"M17.41 7.96l-1.37-1.37c-.4-.4-.92-.59-1.43-.59-.52 0-1.04.2-1.43.59L10.3 9.45l-7.72 7.72c-.78.78-.78 2.05 0 2.83L4 21.41c.39.39.9.59 1.41.59.51 0 1.02-.2 1.41-.59l7.78-7.78 2.81-2.81c.8-.78.8-2.07 0-2.86zM5.41 20L4 18.59l7.72-7.72 1.47 1.35L5.41 20z\"/>\n",
              "  </svg>\n",
              "      </button>\n",
              "      \n",
              "  <style>\n",
              "    .colab-df-container {\n",
              "      display:flex;\n",
              "      flex-wrap:wrap;\n",
              "      gap: 12px;\n",
              "    }\n",
              "\n",
              "    .colab-df-convert {\n",
              "      background-color: #E8F0FE;\n",
              "      border: none;\n",
              "      border-radius: 50%;\n",
              "      cursor: pointer;\n",
              "      display: none;\n",
              "      fill: #1967D2;\n",
              "      height: 32px;\n",
              "      padding: 0 0 0 0;\n",
              "      width: 32px;\n",
              "    }\n",
              "\n",
              "    .colab-df-convert:hover {\n",
              "      background-color: #E2EBFA;\n",
              "      box-shadow: 0px 1px 2px rgba(60, 64, 67, 0.3), 0px 1px 3px 1px rgba(60, 64, 67, 0.15);\n",
              "      fill: #174EA6;\n",
              "    }\n",
              "\n",
              "    [theme=dark] .colab-df-convert {\n",
              "      background-color: #3B4455;\n",
              "      fill: #D2E3FC;\n",
              "    }\n",
              "\n",
              "    [theme=dark] .colab-df-convert:hover {\n",
              "      background-color: #434B5C;\n",
              "      box-shadow: 0px 1px 3px 1px rgba(0, 0, 0, 0.15);\n",
              "      filter: drop-shadow(0px 1px 2px rgba(0, 0, 0, 0.3));\n",
              "      fill: #FFFFFF;\n",
              "    }\n",
              "  </style>\n",
              "\n",
              "      <script>\n",
              "        const buttonEl =\n",
              "          document.querySelector('#df-c04b51ff-2ad3-444c-938b-ea28e3a69538 button.colab-df-convert');\n",
              "        buttonEl.style.display =\n",
              "          google.colab.kernel.accessAllowed ? 'block' : 'none';\n",
              "\n",
              "        async function convertToInteractive(key) {\n",
              "          const element = document.querySelector('#df-c04b51ff-2ad3-444c-938b-ea28e3a69538');\n",
              "          const dataTable =\n",
              "            await google.colab.kernel.invokeFunction('convertToInteractive',\n",
              "                                                     [key], {});\n",
              "          if (!dataTable) return;\n",
              "\n",
              "          const docLinkHtml = 'Like what you see? Visit the ' +\n",
              "            '<a target=\"_blank\" href=https://colab.research.google.com/notebooks/data_table.ipynb>data table notebook</a>'\n",
              "            + ' to learn more about interactive tables.';\n",
              "          element.innerHTML = '';\n",
              "          dataTable['output_type'] = 'display_data';\n",
              "          await google.colab.output.renderOutput(dataTable, element);\n",
              "          const docLink = document.createElement('div');\n",
              "          docLink.innerHTML = docLinkHtml;\n",
              "          element.appendChild(docLink);\n",
              "        }\n",
              "      </script>\n",
              "    </div>\n",
              "  </div>\n",
              "  "
            ]
          },
          "metadata": {},
          "execution_count": 9
        }
      ]
    },
    {
      "cell_type": "code",
      "source": [
        "# Feature enginerring \n",
        "geography=pd.get_dummies(x['Geography'])"
      ],
      "metadata": {
        "id": "Lzwh-huvwVRs"
      },
      "execution_count": 10,
      "outputs": []
    },
    {
      "cell_type": "code",
      "source": [
        "\n",
        "geography"
      ],
      "metadata": {
        "colab": {
          "base_uri": "https://localhost:8080/",
          "height": 424
        },
        "id": "cOhDVuGBwkJ0",
        "outputId": "9e92ea29-6343-4508-9d45-c0d717d8336b"
      },
      "execution_count": 11,
      "outputs": [
        {
          "output_type": "execute_result",
          "data": {
            "text/plain": [
              "      France  Germany  Spain\n",
              "0          1        0      0\n",
              "1          0        0      1\n",
              "2          1        0      0\n",
              "3          1        0      0\n",
              "4          0        0      1\n",
              "...      ...      ...    ...\n",
              "9995       1        0      0\n",
              "9996       1        0      0\n",
              "9997       1        0      0\n",
              "9998       0        1      0\n",
              "9999       1        0      0\n",
              "\n",
              "[10000 rows x 3 columns]"
            ],
            "text/html": [
              "\n",
              "  <div id=\"df-1560eee2-784a-4c85-bd19-0094829da152\">\n",
              "    <div class=\"colab-df-container\">\n",
              "      <div>\n",
              "<style scoped>\n",
              "    .dataframe tbody tr th:only-of-type {\n",
              "        vertical-align: middle;\n",
              "    }\n",
              "\n",
              "    .dataframe tbody tr th {\n",
              "        vertical-align: top;\n",
              "    }\n",
              "\n",
              "    .dataframe thead th {\n",
              "        text-align: right;\n",
              "    }\n",
              "</style>\n",
              "<table border=\"1\" class=\"dataframe\">\n",
              "  <thead>\n",
              "    <tr style=\"text-align: right;\">\n",
              "      <th></th>\n",
              "      <th>France</th>\n",
              "      <th>Germany</th>\n",
              "      <th>Spain</th>\n",
              "    </tr>\n",
              "  </thead>\n",
              "  <tbody>\n",
              "    <tr>\n",
              "      <th>0</th>\n",
              "      <td>1</td>\n",
              "      <td>0</td>\n",
              "      <td>0</td>\n",
              "    </tr>\n",
              "    <tr>\n",
              "      <th>1</th>\n",
              "      <td>0</td>\n",
              "      <td>0</td>\n",
              "      <td>1</td>\n",
              "    </tr>\n",
              "    <tr>\n",
              "      <th>2</th>\n",
              "      <td>1</td>\n",
              "      <td>0</td>\n",
              "      <td>0</td>\n",
              "    </tr>\n",
              "    <tr>\n",
              "      <th>3</th>\n",
              "      <td>1</td>\n",
              "      <td>0</td>\n",
              "      <td>0</td>\n",
              "    </tr>\n",
              "    <tr>\n",
              "      <th>4</th>\n",
              "      <td>0</td>\n",
              "      <td>0</td>\n",
              "      <td>1</td>\n",
              "    </tr>\n",
              "    <tr>\n",
              "      <th>...</th>\n",
              "      <td>...</td>\n",
              "      <td>...</td>\n",
              "      <td>...</td>\n",
              "    </tr>\n",
              "    <tr>\n",
              "      <th>9995</th>\n",
              "      <td>1</td>\n",
              "      <td>0</td>\n",
              "      <td>0</td>\n",
              "    </tr>\n",
              "    <tr>\n",
              "      <th>9996</th>\n",
              "      <td>1</td>\n",
              "      <td>0</td>\n",
              "      <td>0</td>\n",
              "    </tr>\n",
              "    <tr>\n",
              "      <th>9997</th>\n",
              "      <td>1</td>\n",
              "      <td>0</td>\n",
              "      <td>0</td>\n",
              "    </tr>\n",
              "    <tr>\n",
              "      <th>9998</th>\n",
              "      <td>0</td>\n",
              "      <td>1</td>\n",
              "      <td>0</td>\n",
              "    </tr>\n",
              "    <tr>\n",
              "      <th>9999</th>\n",
              "      <td>1</td>\n",
              "      <td>0</td>\n",
              "      <td>0</td>\n",
              "    </tr>\n",
              "  </tbody>\n",
              "</table>\n",
              "<p>10000 rows × 3 columns</p>\n",
              "</div>\n",
              "      <button class=\"colab-df-convert\" onclick=\"convertToInteractive('df-1560eee2-784a-4c85-bd19-0094829da152')\"\n",
              "              title=\"Convert this dataframe to an interactive table.\"\n",
              "              style=\"display:none;\">\n",
              "        \n",
              "  <svg xmlns=\"http://www.w3.org/2000/svg\" height=\"24px\"viewBox=\"0 0 24 24\"\n",
              "       width=\"24px\">\n",
              "    <path d=\"M0 0h24v24H0V0z\" fill=\"none\"/>\n",
              "    <path d=\"M18.56 5.44l.94 2.06.94-2.06 2.06-.94-2.06-.94-.94-2.06-.94 2.06-2.06.94zm-11 1L8.5 8.5l.94-2.06 2.06-.94-2.06-.94L8.5 2.5l-.94 2.06-2.06.94zm10 10l.94 2.06.94-2.06 2.06-.94-2.06-.94-.94-2.06-.94 2.06-2.06.94z\"/><path d=\"M17.41 7.96l-1.37-1.37c-.4-.4-.92-.59-1.43-.59-.52 0-1.04.2-1.43.59L10.3 9.45l-7.72 7.72c-.78.78-.78 2.05 0 2.83L4 21.41c.39.39.9.59 1.41.59.51 0 1.02-.2 1.41-.59l7.78-7.78 2.81-2.81c.8-.78.8-2.07 0-2.86zM5.41 20L4 18.59l7.72-7.72 1.47 1.35L5.41 20z\"/>\n",
              "  </svg>\n",
              "      </button>\n",
              "      \n",
              "  <style>\n",
              "    .colab-df-container {\n",
              "      display:flex;\n",
              "      flex-wrap:wrap;\n",
              "      gap: 12px;\n",
              "    }\n",
              "\n",
              "    .colab-df-convert {\n",
              "      background-color: #E8F0FE;\n",
              "      border: none;\n",
              "      border-radius: 50%;\n",
              "      cursor: pointer;\n",
              "      display: none;\n",
              "      fill: #1967D2;\n",
              "      height: 32px;\n",
              "      padding: 0 0 0 0;\n",
              "      width: 32px;\n",
              "    }\n",
              "\n",
              "    .colab-df-convert:hover {\n",
              "      background-color: #E2EBFA;\n",
              "      box-shadow: 0px 1px 2px rgba(60, 64, 67, 0.3), 0px 1px 3px 1px rgba(60, 64, 67, 0.15);\n",
              "      fill: #174EA6;\n",
              "    }\n",
              "\n",
              "    [theme=dark] .colab-df-convert {\n",
              "      background-color: #3B4455;\n",
              "      fill: #D2E3FC;\n",
              "    }\n",
              "\n",
              "    [theme=dark] .colab-df-convert:hover {\n",
              "      background-color: #434B5C;\n",
              "      box-shadow: 0px 1px 3px 1px rgba(0, 0, 0, 0.15);\n",
              "      filter: drop-shadow(0px 1px 2px rgba(0, 0, 0, 0.3));\n",
              "      fill: #FFFFFF;\n",
              "    }\n",
              "  </style>\n",
              "\n",
              "      <script>\n",
              "        const buttonEl =\n",
              "          document.querySelector('#df-1560eee2-784a-4c85-bd19-0094829da152 button.colab-df-convert');\n",
              "        buttonEl.style.display =\n",
              "          google.colab.kernel.accessAllowed ? 'block' : 'none';\n",
              "\n",
              "        async function convertToInteractive(key) {\n",
              "          const element = document.querySelector('#df-1560eee2-784a-4c85-bd19-0094829da152');\n",
              "          const dataTable =\n",
              "            await google.colab.kernel.invokeFunction('convertToInteractive',\n",
              "                                                     [key], {});\n",
              "          if (!dataTable) return;\n",
              "\n",
              "          const docLinkHtml = 'Like what you see? Visit the ' +\n",
              "            '<a target=\"_blank\" href=https://colab.research.google.com/notebooks/data_table.ipynb>data table notebook</a>'\n",
              "            + ' to learn more about interactive tables.';\n",
              "          element.innerHTML = '';\n",
              "          dataTable['output_type'] = 'display_data';\n",
              "          await google.colab.output.renderOutput(dataTable, element);\n",
              "          const docLink = document.createElement('div');\n",
              "          docLink.innerHTML = docLinkHtml;\n",
              "          element.appendChild(docLink);\n",
              "        }\n",
              "      </script>\n",
              "    </div>\n",
              "  </div>\n",
              "  "
            ]
          },
          "metadata": {},
          "execution_count": 11
        }
      ]
    },
    {
      "cell_type": "code",
      "source": [
        "geography=pd.get_dummies(x['Geography'], drop_first=True)"
      ],
      "metadata": {
        "id": "U_EnMzSowo2x"
      },
      "execution_count": 12,
      "outputs": []
    },
    {
      "cell_type": "code",
      "source": [
        "geography"
      ],
      "metadata": {
        "colab": {
          "base_uri": "https://localhost:8080/",
          "height": 424
        },
        "id": "E-DvvqeTwzaB",
        "outputId": "083631c7-7054-42c9-e755-187d94e91cd1"
      },
      "execution_count": 13,
      "outputs": [
        {
          "output_type": "execute_result",
          "data": {
            "text/plain": [
              "      Germany  Spain\n",
              "0           0      0\n",
              "1           0      1\n",
              "2           0      0\n",
              "3           0      0\n",
              "4           0      1\n",
              "...       ...    ...\n",
              "9995        0      0\n",
              "9996        0      0\n",
              "9997        0      0\n",
              "9998        1      0\n",
              "9999        0      0\n",
              "\n",
              "[10000 rows x 2 columns]"
            ],
            "text/html": [
              "\n",
              "  <div id=\"df-ad497efa-8149-4c5c-9698-d8855fa6e19e\">\n",
              "    <div class=\"colab-df-container\">\n",
              "      <div>\n",
              "<style scoped>\n",
              "    .dataframe tbody tr th:only-of-type {\n",
              "        vertical-align: middle;\n",
              "    }\n",
              "\n",
              "    .dataframe tbody tr th {\n",
              "        vertical-align: top;\n",
              "    }\n",
              "\n",
              "    .dataframe thead th {\n",
              "        text-align: right;\n",
              "    }\n",
              "</style>\n",
              "<table border=\"1\" class=\"dataframe\">\n",
              "  <thead>\n",
              "    <tr style=\"text-align: right;\">\n",
              "      <th></th>\n",
              "      <th>Germany</th>\n",
              "      <th>Spain</th>\n",
              "    </tr>\n",
              "  </thead>\n",
              "  <tbody>\n",
              "    <tr>\n",
              "      <th>0</th>\n",
              "      <td>0</td>\n",
              "      <td>0</td>\n",
              "    </tr>\n",
              "    <tr>\n",
              "      <th>1</th>\n",
              "      <td>0</td>\n",
              "      <td>1</td>\n",
              "    </tr>\n",
              "    <tr>\n",
              "      <th>2</th>\n",
              "      <td>0</td>\n",
              "      <td>0</td>\n",
              "    </tr>\n",
              "    <tr>\n",
              "      <th>3</th>\n",
              "      <td>0</td>\n",
              "      <td>0</td>\n",
              "    </tr>\n",
              "    <tr>\n",
              "      <th>4</th>\n",
              "      <td>0</td>\n",
              "      <td>1</td>\n",
              "    </tr>\n",
              "    <tr>\n",
              "      <th>...</th>\n",
              "      <td>...</td>\n",
              "      <td>...</td>\n",
              "    </tr>\n",
              "    <tr>\n",
              "      <th>9995</th>\n",
              "      <td>0</td>\n",
              "      <td>0</td>\n",
              "    </tr>\n",
              "    <tr>\n",
              "      <th>9996</th>\n",
              "      <td>0</td>\n",
              "      <td>0</td>\n",
              "    </tr>\n",
              "    <tr>\n",
              "      <th>9997</th>\n",
              "      <td>0</td>\n",
              "      <td>0</td>\n",
              "    </tr>\n",
              "    <tr>\n",
              "      <th>9998</th>\n",
              "      <td>1</td>\n",
              "      <td>0</td>\n",
              "    </tr>\n",
              "    <tr>\n",
              "      <th>9999</th>\n",
              "      <td>0</td>\n",
              "      <td>0</td>\n",
              "    </tr>\n",
              "  </tbody>\n",
              "</table>\n",
              "<p>10000 rows × 2 columns</p>\n",
              "</div>\n",
              "      <button class=\"colab-df-convert\" onclick=\"convertToInteractive('df-ad497efa-8149-4c5c-9698-d8855fa6e19e')\"\n",
              "              title=\"Convert this dataframe to an interactive table.\"\n",
              "              style=\"display:none;\">\n",
              "        \n",
              "  <svg xmlns=\"http://www.w3.org/2000/svg\" height=\"24px\"viewBox=\"0 0 24 24\"\n",
              "       width=\"24px\">\n",
              "    <path d=\"M0 0h24v24H0V0z\" fill=\"none\"/>\n",
              "    <path d=\"M18.56 5.44l.94 2.06.94-2.06 2.06-.94-2.06-.94-.94-2.06-.94 2.06-2.06.94zm-11 1L8.5 8.5l.94-2.06 2.06-.94-2.06-.94L8.5 2.5l-.94 2.06-2.06.94zm10 10l.94 2.06.94-2.06 2.06-.94-2.06-.94-.94-2.06-.94 2.06-2.06.94z\"/><path d=\"M17.41 7.96l-1.37-1.37c-.4-.4-.92-.59-1.43-.59-.52 0-1.04.2-1.43.59L10.3 9.45l-7.72 7.72c-.78.78-.78 2.05 0 2.83L4 21.41c.39.39.9.59 1.41.59.51 0 1.02-.2 1.41-.59l7.78-7.78 2.81-2.81c.8-.78.8-2.07 0-2.86zM5.41 20L4 18.59l7.72-7.72 1.47 1.35L5.41 20z\"/>\n",
              "  </svg>\n",
              "      </button>\n",
              "      \n",
              "  <style>\n",
              "    .colab-df-container {\n",
              "      display:flex;\n",
              "      flex-wrap:wrap;\n",
              "      gap: 12px;\n",
              "    }\n",
              "\n",
              "    .colab-df-convert {\n",
              "      background-color: #E8F0FE;\n",
              "      border: none;\n",
              "      border-radius: 50%;\n",
              "      cursor: pointer;\n",
              "      display: none;\n",
              "      fill: #1967D2;\n",
              "      height: 32px;\n",
              "      padding: 0 0 0 0;\n",
              "      width: 32px;\n",
              "    }\n",
              "\n",
              "    .colab-df-convert:hover {\n",
              "      background-color: #E2EBFA;\n",
              "      box-shadow: 0px 1px 2px rgba(60, 64, 67, 0.3), 0px 1px 3px 1px rgba(60, 64, 67, 0.15);\n",
              "      fill: #174EA6;\n",
              "    }\n",
              "\n",
              "    [theme=dark] .colab-df-convert {\n",
              "      background-color: #3B4455;\n",
              "      fill: #D2E3FC;\n",
              "    }\n",
              "\n",
              "    [theme=dark] .colab-df-convert:hover {\n",
              "      background-color: #434B5C;\n",
              "      box-shadow: 0px 1px 3px 1px rgba(0, 0, 0, 0.15);\n",
              "      filter: drop-shadow(0px 1px 2px rgba(0, 0, 0, 0.3));\n",
              "      fill: #FFFFFF;\n",
              "    }\n",
              "  </style>\n",
              "\n",
              "      <script>\n",
              "        const buttonEl =\n",
              "          document.querySelector('#df-ad497efa-8149-4c5c-9698-d8855fa6e19e button.colab-df-convert');\n",
              "        buttonEl.style.display =\n",
              "          google.colab.kernel.accessAllowed ? 'block' : 'none';\n",
              "\n",
              "        async function convertToInteractive(key) {\n",
              "          const element = document.querySelector('#df-ad497efa-8149-4c5c-9698-d8855fa6e19e');\n",
              "          const dataTable =\n",
              "            await google.colab.kernel.invokeFunction('convertToInteractive',\n",
              "                                                     [key], {});\n",
              "          if (!dataTable) return;\n",
              "\n",
              "          const docLinkHtml = 'Like what you see? Visit the ' +\n",
              "            '<a target=\"_blank\" href=https://colab.research.google.com/notebooks/data_table.ipynb>data table notebook</a>'\n",
              "            + ' to learn more about interactive tables.';\n",
              "          element.innerHTML = '';\n",
              "          dataTable['output_type'] = 'display_data';\n",
              "          await google.colab.output.renderOutput(dataTable, element);\n",
              "          const docLink = document.createElement('div');\n",
              "          docLink.innerHTML = docLinkHtml;\n",
              "          element.appendChild(docLink);\n",
              "        }\n",
              "      </script>\n",
              "    </div>\n",
              "  </div>\n",
              "  "
            ]
          },
          "metadata": {},
          "execution_count": 13
        }
      ]
    },
    {
      "cell_type": "code",
      "source": [
        "gender=pd.get_dummies(x['Gender'], drop_first=True)"
      ],
      "metadata": {
        "id": "HEUq3kiEw1J2"
      },
      "execution_count": 14,
      "outputs": []
    },
    {
      "cell_type": "code",
      "source": [
        "# concatinate these variable with dataframe\n",
        "x = x.drop(['Geography', 'Gender'], axis=1)"
      ],
      "metadata": {
        "id": "4wyLZnn8w_MA"
      },
      "execution_count": 15,
      "outputs": []
    },
    {
      "cell_type": "code",
      "source": [
        "x.head()"
      ],
      "metadata": {
        "colab": {
          "base_uri": "https://localhost:8080/",
          "height": 206
        },
        "id": "9Y9TSTvfxPmx",
        "outputId": "71813160-cd67-4d16-b96e-ac7de4f4fca7"
      },
      "execution_count": 16,
      "outputs": [
        {
          "output_type": "execute_result",
          "data": {
            "text/plain": [
              "   CreditScore  Age  Tenure    Balance  NumOfProducts  HasCrCard  \\\n",
              "0          619   42       2       0.00              1          1   \n",
              "1          608   41       1   83807.86              1          0   \n",
              "2          502   42       8  159660.80              3          1   \n",
              "3          699   39       1       0.00              2          0   \n",
              "4          850   43       2  125510.82              1          1   \n",
              "\n",
              "   IsActiveMember  EstimatedSalary  \n",
              "0               1        101348.88  \n",
              "1               1        112542.58  \n",
              "2               0        113931.57  \n",
              "3               0         93826.63  \n",
              "4               1         79084.10  "
            ],
            "text/html": [
              "\n",
              "  <div id=\"df-dc6a876b-782a-4c24-a21a-8a2a77691c12\">\n",
              "    <div class=\"colab-df-container\">\n",
              "      <div>\n",
              "<style scoped>\n",
              "    .dataframe tbody tr th:only-of-type {\n",
              "        vertical-align: middle;\n",
              "    }\n",
              "\n",
              "    .dataframe tbody tr th {\n",
              "        vertical-align: top;\n",
              "    }\n",
              "\n",
              "    .dataframe thead th {\n",
              "        text-align: right;\n",
              "    }\n",
              "</style>\n",
              "<table border=\"1\" class=\"dataframe\">\n",
              "  <thead>\n",
              "    <tr style=\"text-align: right;\">\n",
              "      <th></th>\n",
              "      <th>CreditScore</th>\n",
              "      <th>Age</th>\n",
              "      <th>Tenure</th>\n",
              "      <th>Balance</th>\n",
              "      <th>NumOfProducts</th>\n",
              "      <th>HasCrCard</th>\n",
              "      <th>IsActiveMember</th>\n",
              "      <th>EstimatedSalary</th>\n",
              "    </tr>\n",
              "  </thead>\n",
              "  <tbody>\n",
              "    <tr>\n",
              "      <th>0</th>\n",
              "      <td>619</td>\n",
              "      <td>42</td>\n",
              "      <td>2</td>\n",
              "      <td>0.00</td>\n",
              "      <td>1</td>\n",
              "      <td>1</td>\n",
              "      <td>1</td>\n",
              "      <td>101348.88</td>\n",
              "    </tr>\n",
              "    <tr>\n",
              "      <th>1</th>\n",
              "      <td>608</td>\n",
              "      <td>41</td>\n",
              "      <td>1</td>\n",
              "      <td>83807.86</td>\n",
              "      <td>1</td>\n",
              "      <td>0</td>\n",
              "      <td>1</td>\n",
              "      <td>112542.58</td>\n",
              "    </tr>\n",
              "    <tr>\n",
              "      <th>2</th>\n",
              "      <td>502</td>\n",
              "      <td>42</td>\n",
              "      <td>8</td>\n",
              "      <td>159660.80</td>\n",
              "      <td>3</td>\n",
              "      <td>1</td>\n",
              "      <td>0</td>\n",
              "      <td>113931.57</td>\n",
              "    </tr>\n",
              "    <tr>\n",
              "      <th>3</th>\n",
              "      <td>699</td>\n",
              "      <td>39</td>\n",
              "      <td>1</td>\n",
              "      <td>0.00</td>\n",
              "      <td>2</td>\n",
              "      <td>0</td>\n",
              "      <td>0</td>\n",
              "      <td>93826.63</td>\n",
              "    </tr>\n",
              "    <tr>\n",
              "      <th>4</th>\n",
              "      <td>850</td>\n",
              "      <td>43</td>\n",
              "      <td>2</td>\n",
              "      <td>125510.82</td>\n",
              "      <td>1</td>\n",
              "      <td>1</td>\n",
              "      <td>1</td>\n",
              "      <td>79084.10</td>\n",
              "    </tr>\n",
              "  </tbody>\n",
              "</table>\n",
              "</div>\n",
              "      <button class=\"colab-df-convert\" onclick=\"convertToInteractive('df-dc6a876b-782a-4c24-a21a-8a2a77691c12')\"\n",
              "              title=\"Convert this dataframe to an interactive table.\"\n",
              "              style=\"display:none;\">\n",
              "        \n",
              "  <svg xmlns=\"http://www.w3.org/2000/svg\" height=\"24px\"viewBox=\"0 0 24 24\"\n",
              "       width=\"24px\">\n",
              "    <path d=\"M0 0h24v24H0V0z\" fill=\"none\"/>\n",
              "    <path d=\"M18.56 5.44l.94 2.06.94-2.06 2.06-.94-2.06-.94-.94-2.06-.94 2.06-2.06.94zm-11 1L8.5 8.5l.94-2.06 2.06-.94-2.06-.94L8.5 2.5l-.94 2.06-2.06.94zm10 10l.94 2.06.94-2.06 2.06-.94-2.06-.94-.94-2.06-.94 2.06-2.06.94z\"/><path d=\"M17.41 7.96l-1.37-1.37c-.4-.4-.92-.59-1.43-.59-.52 0-1.04.2-1.43.59L10.3 9.45l-7.72 7.72c-.78.78-.78 2.05 0 2.83L4 21.41c.39.39.9.59 1.41.59.51 0 1.02-.2 1.41-.59l7.78-7.78 2.81-2.81c.8-.78.8-2.07 0-2.86zM5.41 20L4 18.59l7.72-7.72 1.47 1.35L5.41 20z\"/>\n",
              "  </svg>\n",
              "      </button>\n",
              "      \n",
              "  <style>\n",
              "    .colab-df-container {\n",
              "      display:flex;\n",
              "      flex-wrap:wrap;\n",
              "      gap: 12px;\n",
              "    }\n",
              "\n",
              "    .colab-df-convert {\n",
              "      background-color: #E8F0FE;\n",
              "      border: none;\n",
              "      border-radius: 50%;\n",
              "      cursor: pointer;\n",
              "      display: none;\n",
              "      fill: #1967D2;\n",
              "      height: 32px;\n",
              "      padding: 0 0 0 0;\n",
              "      width: 32px;\n",
              "    }\n",
              "\n",
              "    .colab-df-convert:hover {\n",
              "      background-color: #E2EBFA;\n",
              "      box-shadow: 0px 1px 2px rgba(60, 64, 67, 0.3), 0px 1px 3px 1px rgba(60, 64, 67, 0.15);\n",
              "      fill: #174EA6;\n",
              "    }\n",
              "\n",
              "    [theme=dark] .colab-df-convert {\n",
              "      background-color: #3B4455;\n",
              "      fill: #D2E3FC;\n",
              "    }\n",
              "\n",
              "    [theme=dark] .colab-df-convert:hover {\n",
              "      background-color: #434B5C;\n",
              "      box-shadow: 0px 1px 3px 1px rgba(0, 0, 0, 0.15);\n",
              "      filter: drop-shadow(0px 1px 2px rgba(0, 0, 0, 0.3));\n",
              "      fill: #FFFFFF;\n",
              "    }\n",
              "  </style>\n",
              "\n",
              "      <script>\n",
              "        const buttonEl =\n",
              "          document.querySelector('#df-dc6a876b-782a-4c24-a21a-8a2a77691c12 button.colab-df-convert');\n",
              "        buttonEl.style.display =\n",
              "          google.colab.kernel.accessAllowed ? 'block' : 'none';\n",
              "\n",
              "        async function convertToInteractive(key) {\n",
              "          const element = document.querySelector('#df-dc6a876b-782a-4c24-a21a-8a2a77691c12');\n",
              "          const dataTable =\n",
              "            await google.colab.kernel.invokeFunction('convertToInteractive',\n",
              "                                                     [key], {});\n",
              "          if (!dataTable) return;\n",
              "\n",
              "          const docLinkHtml = 'Like what you see? Visit the ' +\n",
              "            '<a target=\"_blank\" href=https://colab.research.google.com/notebooks/data_table.ipynb>data table notebook</a>'\n",
              "            + ' to learn more about interactive tables.';\n",
              "          element.innerHTML = '';\n",
              "          dataTable['output_type'] = 'display_data';\n",
              "          await google.colab.output.renderOutput(dataTable, element);\n",
              "          const docLink = document.createElement('div');\n",
              "          docLink.innerHTML = docLinkHtml;\n",
              "          element.appendChild(docLink);\n",
              "        }\n",
              "      </script>\n",
              "    </div>\n",
              "  </div>\n",
              "  "
            ]
          },
          "metadata": {},
          "execution_count": 16
        }
      ]
    },
    {
      "cell_type": "code",
      "source": [
        "from numpy.core.function_base import geomspace\n",
        "x = pd.concat([x,geography, gender],axis=1)"
      ],
      "metadata": {
        "id": "9e1pEDPaxW3x"
      },
      "execution_count": 17,
      "outputs": []
    },
    {
      "cell_type": "code",
      "source": [
        "# splitting the dataset into training and testset\n",
        "from sklearn.model_selection import train_test_split\n",
        "\n",
        "x_train, x_test, y_train, y_test = train_test_split(x,y, test_size=0.2, random_state=20)"
      ],
      "metadata": {
        "id": "rKwB6pEnxg1x"
      },
      "execution_count": 18,
      "outputs": []
    },
    {
      "cell_type": "code",
      "source": [
        "x.shape"
      ],
      "metadata": {
        "colab": {
          "base_uri": "https://localhost:8080/"
        },
        "id": "k8JNUylyHMFt",
        "outputId": "b9fb485c-ec21-43c6-96a5-bb2b3d34071b"
      },
      "execution_count": 19,
      "outputs": [
        {
          "output_type": "execute_result",
          "data": {
            "text/plain": [
              "(10000, 11)"
            ]
          },
          "metadata": {},
          "execution_count": 19
        }
      ]
    },
    {
      "cell_type": "code",
      "source": [
        "x_train.shape, x_test.shape"
      ],
      "metadata": {
        "colab": {
          "base_uri": "https://localhost:8080/"
        },
        "id": "4wk_iSU5HQvO",
        "outputId": "c6928208-b114-436b-ce91-87eb0c4aba37"
      },
      "execution_count": 20,
      "outputs": [
        {
          "output_type": "execute_result",
          "data": {
            "text/plain": [
              "((8000, 11), (2000, 11))"
            ]
          },
          "metadata": {},
          "execution_count": 20
        }
      ]
    },
    {
      "cell_type": "code",
      "source": [
        "# feature sclaing\n",
        "\n",
        "\n",
        "from sklearn.preprocessing import StandardScaler\n",
        "\n",
        "sc = StandardScaler()"
      ],
      "metadata": {
        "id": "D5lQPqNIHUBj"
      },
      "execution_count": 21,
      "outputs": []
    },
    {
      "cell_type": "code",
      "source": [
        "x_train = sc.fit_transform(x_train)\n",
        "\n",
        "x_test = sc.transform(x_test)"
      ],
      "metadata": {
        "id": "KorVBwj1IAhZ"
      },
      "execution_count": 22,
      "outputs": []
    },
    {
      "cell_type": "code",
      "source": [
        "x_train"
      ],
      "metadata": {
        "colab": {
          "base_uri": "https://localhost:8080/"
        },
        "id": "tBBLIfsMIRx5",
        "outputId": "542752a9-ecd2-486a-bb85-68e5f0b0c5d5"
      },
      "execution_count": 23,
      "outputs": [
        {
          "output_type": "execute_result",
          "data": {
            "text/plain": [
              "array([[ 1.34111823,  0.38693948, -1.73661451, ..., -0.57965968,\n",
              "        -0.58042949, -1.08948952],\n",
              "       [-1.4670728 , -0.57127623,  0.69033796, ..., -0.57965968,\n",
              "        -0.58042949,  0.91786105],\n",
              "       [-0.19155746, -1.62531351, -0.69649202, ..., -0.57965968,\n",
              "        -0.58042949, -1.08948952],\n",
              "       ...,\n",
              "       [ 0.5079187 ,  1.44097676, -0.69649202, ...,  1.72515018,\n",
              "        -0.58042949, -1.08948952],\n",
              "       [-2.25912668, -0.76291937, -0.00307703, ..., -0.57965968,\n",
              "        -0.58042949,  0.91786105],\n",
              "       [-0.78816947,  1.05769048, -1.73661451, ..., -0.57965968,\n",
              "         1.72286214,  0.91786105]])"
            ]
          },
          "metadata": {},
          "execution_count": 23
        }
      ]
    },
    {
      "cell_type": "code",
      "source": [
        "x_test"
      ],
      "metadata": {
        "colab": {
          "base_uri": "https://localhost:8080/"
        },
        "id": "sa6O3dT0I4bX",
        "outputId": "5f1956c1-2f6a-4c50-a69a-0264f41e1d4c"
      },
      "execution_count": 24,
      "outputs": [
        {
          "output_type": "execute_result",
          "data": {
            "text/plain": [
              "array([[-0.17098463, -1.3378488 , -1.38990701, ..., -0.57965968,\n",
              "        -0.58042949,  0.91786105],\n",
              "       [ 2.06116722, -0.18798994, -0.34978452, ..., -0.57965968,\n",
              "         1.72286214,  0.91786105],\n",
              "       [ 0.52849152,  0.48276105,  0.69033796, ..., -0.57965968,\n",
              "        -0.58042949,  0.91786105],\n",
              "       ...,\n",
              "       [-0.91160644, -1.05038408,  0.34363047, ..., -0.57965968,\n",
              "         1.72286214,  0.91786105],\n",
              "       [-1.29220376, -0.95456251,  1.38375295, ...,  1.72515018,\n",
              "        -0.58042949,  0.91786105],\n",
              "       [ 1.00166657,  0.19529634, -0.00307703, ..., -0.57965968,\n",
              "        -0.58042949,  0.91786105]])"
            ]
          },
          "metadata": {},
          "execution_count": 24
        }
      ]
    },
    {
      "cell_type": "code",
      "source": [
        "x_train.shape"
      ],
      "metadata": {
        "colab": {
          "base_uri": "https://localhost:8080/"
        },
        "id": "QRqD9Ye0I6mE",
        "outputId": "64a4c5bc-f87b-417a-8d90-47619f8b2977"
      },
      "execution_count": 25,
      "outputs": [
        {
          "output_type": "execute_result",
          "data": {
            "text/plain": [
              "(8000, 11)"
            ]
          },
          "metadata": {},
          "execution_count": 25
        }
      ]
    },
    {
      "cell_type": "markdown",
      "source": [
        "## Part 2:  Now lets create ANN"
      ],
      "metadata": {
        "id": "Yvq2MCP9I83k"
      }
    },
    {
      "cell_type": "code",
      "source": [
        "import tensorflow as tf\n",
        "from tensorflow.keras.models import Sequential\n",
        "from tensorflow.keras.layers import Dense\n",
        "from tensorflow.keras.layers import LeakyReLU, PReLU, ReLU\n",
        "from tensorflow.keras.layers import Dropout"
      ],
      "metadata": {
        "id": "HPgFay0iJRDM"
      },
      "execution_count": 26,
      "outputs": []
    },
    {
      "cell_type": "code",
      "source": [
        "## lets initialize the ANN\n",
        "classifier = Sequential()"
      ],
      "metadata": {
        "id": "hzuStDU9LkHX"
      },
      "execution_count": 27,
      "outputs": []
    },
    {
      "cell_type": "code",
      "source": [
        "# Adding the input layers\n",
        "classifier.add(Dense(units=11,activation='relu'))"
      ],
      "metadata": {
        "id": "hHat-uOSLr2B"
      },
      "execution_count": 28,
      "outputs": []
    },
    {
      "cell_type": "code",
      "source": [
        "## Adding the first hidden layer\n",
        "classifier.add(Dense(units=7, activation='relu'))\n",
        "classifier.add(Dropout(0.3))"
      ],
      "metadata": {
        "id": "xYXVCB64L8rd"
      },
      "execution_count": 60,
      "outputs": []
    },
    {
      "cell_type": "code",
      "source": [
        "# Adding second Hidden layer\n",
        "classifier.add(Dense(units=6, activation='relu'))\n",
        "classifier.add(Dropout(0.3))"
      ],
      "metadata": {
        "id": "sHsGbf1tMKEs"
      },
      "execution_count": 75,
      "outputs": []
    },
    {
      "cell_type": "code",
      "source": [
        "# Adding the out put layer\n",
        "classifier.add(Dense(1,activation='sigmoid'))"
      ],
      "metadata": {
        "id": "L5331Ih3Mi9A"
      },
      "execution_count": 76,
      "outputs": []
    },
    {
      "cell_type": "code",
      "source": [
        "classifier.compile(optimizer='adam', loss='binary_crossentropy', metrics=['accuracy'])"
      ],
      "metadata": {
        "id": "sYmT5jmnM02M"
      },
      "execution_count": 77,
      "outputs": []
    },
    {
      "cell_type": "code",
      "source": [
        "import tensorflow\n",
        "opt = tensorflow.keras.optimizers.Adam(learning_rate=0.01)"
      ],
      "metadata": {
        "id": "p5cle7rCNIGs"
      },
      "execution_count": 78,
      "outputs": []
    },
    {
      "cell_type": "code",
      "source": [
        "## Early stopping\n",
        "import tensorflow as tf\n",
        "early_stopping=tf.keras.callbacks.EarlyStopping(\n",
        "    monitor=\"val_loss\",\n",
        "    min_delta=0.0001,\n",
        "    patience=20,\n",
        "    verbose=1,\n",
        "    mode=\"auto\",\n",
        "    baseline=None,\n",
        "    restore_best_weights=False,\n",
        ")\n"
      ],
      "metadata": {
        "id": "PY3XTNT-Poyu"
      },
      "execution_count": 79,
      "outputs": []
    },
    {
      "cell_type": "code",
      "source": [
        "from keras.callbacks import EarlyStopping\n",
        "model_history = classifier.fit(x_train, y_train, validation_split=0.33, batch_size=10, epochs=1000, callbacks = early_stopping)"
      ],
      "metadata": {
        "colab": {
          "base_uri": "https://localhost:8080/"
        },
        "id": "TOMSwladN2uV",
        "outputId": "27759331-a08c-4939-b91d-47b3ab6e0eaf"
      },
      "execution_count": 66,
      "outputs": [
        {
          "output_type": "stream",
          "name": "stdout",
          "text": [
            "Epoch 1/1000\n",
            "536/536 [==============================] - 3s 3ms/step - loss: 0.5462 - accuracy: 0.7867 - val_loss: 0.5028 - val_accuracy: 0.8042\n",
            "Epoch 2/1000\n",
            "536/536 [==============================] - 1s 3ms/step - loss: 0.5139 - accuracy: 0.7867 - val_loss: 0.4641 - val_accuracy: 0.8042\n",
            "Epoch 3/1000\n",
            "536/536 [==============================] - 2s 3ms/step - loss: 0.4693 - accuracy: 0.7867 - val_loss: 0.4404 - val_accuracy: 0.8042\n",
            "Epoch 4/1000\n",
            "536/536 [==============================] - 2s 3ms/step - loss: 0.4564 - accuracy: 0.7867 - val_loss: 0.4350 - val_accuracy: 0.8042\n",
            "Epoch 5/1000\n",
            "536/536 [==============================] - 2s 3ms/step - loss: 0.4540 - accuracy: 0.7867 - val_loss: 0.4376 - val_accuracy: 0.8042\n",
            "Epoch 6/1000\n",
            "536/536 [==============================] - 2s 3ms/step - loss: 0.4519 - accuracy: 0.7867 - val_loss: 0.4349 - val_accuracy: 0.8042\n",
            "Epoch 7/1000\n",
            "536/536 [==============================] - 2s 3ms/step - loss: 0.4569 - accuracy: 0.7867 - val_loss: 0.4283 - val_accuracy: 0.8042\n",
            "Epoch 8/1000\n",
            "536/536 [==============================] - 1s 3ms/step - loss: 0.4518 - accuracy: 0.7867 - val_loss: 0.4315 - val_accuracy: 0.8042\n",
            "Epoch 9/1000\n",
            "536/536 [==============================] - 1s 3ms/step - loss: 0.4469 - accuracy: 0.7867 - val_loss: 0.4289 - val_accuracy: 0.8042\n",
            "Epoch 10/1000\n",
            "536/536 [==============================] - 2s 3ms/step - loss: 0.4468 - accuracy: 0.7867 - val_loss: 0.4252 - val_accuracy: 0.8042\n",
            "Epoch 11/1000\n",
            "536/536 [==============================] - 3s 5ms/step - loss: 0.4426 - accuracy: 0.7968 - val_loss: 0.4340 - val_accuracy: 0.8296\n",
            "Epoch 12/1000\n",
            "536/536 [==============================] - 2s 3ms/step - loss: 0.4431 - accuracy: 0.8037 - val_loss: 0.4261 - val_accuracy: 0.8307\n",
            "Epoch 13/1000\n",
            "536/536 [==============================] - 2s 3ms/step - loss: 0.4425 - accuracy: 0.8216 - val_loss: 0.4233 - val_accuracy: 0.8326\n",
            "Epoch 14/1000\n",
            "536/536 [==============================] - 2s 3ms/step - loss: 0.4349 - accuracy: 0.8203 - val_loss: 0.4251 - val_accuracy: 0.8266\n",
            "Epoch 15/1000\n",
            "536/536 [==============================] - 2s 4ms/step - loss: 0.4323 - accuracy: 0.8220 - val_loss: 0.4183 - val_accuracy: 0.8330\n",
            "Epoch 16/1000\n",
            "536/536 [==============================] - 2s 3ms/step - loss: 0.4303 - accuracy: 0.8242 - val_loss: 0.4105 - val_accuracy: 0.8387\n",
            "Epoch 17/1000\n",
            "536/536 [==============================] - 2s 3ms/step - loss: 0.4158 - accuracy: 0.8322 - val_loss: 0.3898 - val_accuracy: 0.8482\n",
            "Epoch 18/1000\n",
            "536/536 [==============================] - 2s 3ms/step - loss: 0.4009 - accuracy: 0.8412 - val_loss: 0.3760 - val_accuracy: 0.8512\n",
            "Epoch 19/1000\n",
            "536/536 [==============================] - 2s 3ms/step - loss: 0.3923 - accuracy: 0.8429 - val_loss: 0.3793 - val_accuracy: 0.8395\n",
            "Epoch 20/1000\n",
            "536/536 [==============================] - 2s 3ms/step - loss: 0.3881 - accuracy: 0.8438 - val_loss: 0.3666 - val_accuracy: 0.8531\n",
            "Epoch 21/1000\n",
            "536/536 [==============================] - 2s 3ms/step - loss: 0.3859 - accuracy: 0.8472 - val_loss: 0.3729 - val_accuracy: 0.8501\n",
            "Epoch 22/1000\n",
            "536/536 [==============================] - 2s 3ms/step - loss: 0.3827 - accuracy: 0.8449 - val_loss: 0.3619 - val_accuracy: 0.8554\n",
            "Epoch 23/1000\n",
            "536/536 [==============================] - 2s 3ms/step - loss: 0.3793 - accuracy: 0.8449 - val_loss: 0.3623 - val_accuracy: 0.8550\n",
            "Epoch 24/1000\n",
            "536/536 [==============================] - 2s 3ms/step - loss: 0.3784 - accuracy: 0.8487 - val_loss: 0.3557 - val_accuracy: 0.8641\n",
            "Epoch 25/1000\n",
            "536/536 [==============================] - 2s 3ms/step - loss: 0.3760 - accuracy: 0.8474 - val_loss: 0.3632 - val_accuracy: 0.8527\n",
            "Epoch 26/1000\n",
            "536/536 [==============================] - 1s 3ms/step - loss: 0.3751 - accuracy: 0.8490 - val_loss: 0.3580 - val_accuracy: 0.8561\n",
            "Epoch 27/1000\n",
            "536/536 [==============================] - 2s 3ms/step - loss: 0.3770 - accuracy: 0.8438 - val_loss: 0.3585 - val_accuracy: 0.8535\n",
            "Epoch 28/1000\n",
            "536/536 [==============================] - 2s 3ms/step - loss: 0.3711 - accuracy: 0.8479 - val_loss: 0.3538 - val_accuracy: 0.8550\n",
            "Epoch 29/1000\n",
            "536/536 [==============================] - 1s 3ms/step - loss: 0.3681 - accuracy: 0.8494 - val_loss: 0.3524 - val_accuracy: 0.8633\n",
            "Epoch 30/1000\n",
            "536/536 [==============================] - 2s 3ms/step - loss: 0.3705 - accuracy: 0.8481 - val_loss: 0.3586 - val_accuracy: 0.8489\n",
            "Epoch 31/1000\n",
            "536/536 [==============================] - 2s 3ms/step - loss: 0.3649 - accuracy: 0.8505 - val_loss: 0.3494 - val_accuracy: 0.8633\n",
            "Epoch 32/1000\n",
            "536/536 [==============================] - 1s 3ms/step - loss: 0.3686 - accuracy: 0.8543 - val_loss: 0.3499 - val_accuracy: 0.8629\n",
            "Epoch 33/1000\n",
            "536/536 [==============================] - 2s 3ms/step - loss: 0.3620 - accuracy: 0.8526 - val_loss: 0.3530 - val_accuracy: 0.8648\n",
            "Epoch 34/1000\n",
            "536/536 [==============================] - 2s 3ms/step - loss: 0.3645 - accuracy: 0.8503 - val_loss: 0.3497 - val_accuracy: 0.8599\n",
            "Epoch 35/1000\n",
            "536/536 [==============================] - 1s 3ms/step - loss: 0.3645 - accuracy: 0.8515 - val_loss: 0.3453 - val_accuracy: 0.8671\n",
            "Epoch 36/1000\n",
            "536/536 [==============================] - 2s 3ms/step - loss: 0.3584 - accuracy: 0.8509 - val_loss: 0.3689 - val_accuracy: 0.8342\n",
            "Epoch 37/1000\n",
            "536/536 [==============================] - 2s 3ms/step - loss: 0.3630 - accuracy: 0.8554 - val_loss: 0.3479 - val_accuracy: 0.8633\n",
            "Epoch 38/1000\n",
            "536/536 [==============================] - 3s 5ms/step - loss: 0.3635 - accuracy: 0.8531 - val_loss: 0.3461 - val_accuracy: 0.8644\n",
            "Epoch 39/1000\n",
            "536/536 [==============================] - 2s 3ms/step - loss: 0.3602 - accuracy: 0.8522 - val_loss: 0.3484 - val_accuracy: 0.8622\n",
            "Epoch 40/1000\n",
            "536/536 [==============================] - 2s 3ms/step - loss: 0.3593 - accuracy: 0.8537 - val_loss: 0.3450 - val_accuracy: 0.8675\n",
            "Epoch 41/1000\n",
            "536/536 [==============================] - 2s 3ms/step - loss: 0.3607 - accuracy: 0.8546 - val_loss: 0.3458 - val_accuracy: 0.8675\n",
            "Epoch 42/1000\n",
            "536/536 [==============================] - 2s 3ms/step - loss: 0.3601 - accuracy: 0.8533 - val_loss: 0.3509 - val_accuracy: 0.8576\n",
            "Epoch 43/1000\n",
            "536/536 [==============================] - 2s 3ms/step - loss: 0.3565 - accuracy: 0.8561 - val_loss: 0.3493 - val_accuracy: 0.8663\n",
            "Epoch 44/1000\n",
            "536/536 [==============================] - 1s 3ms/step - loss: 0.3585 - accuracy: 0.8541 - val_loss: 0.3452 - val_accuracy: 0.8637\n",
            "Epoch 45/1000\n",
            "536/536 [==============================] - 2s 3ms/step - loss: 0.3588 - accuracy: 0.8548 - val_loss: 0.3458 - val_accuracy: 0.8603\n",
            "Epoch 46/1000\n",
            "536/536 [==============================] - 2s 3ms/step - loss: 0.3540 - accuracy: 0.8546 - val_loss: 0.3537 - val_accuracy: 0.8478\n",
            "Epoch 47/1000\n",
            "536/536 [==============================] - 2s 3ms/step - loss: 0.3579 - accuracy: 0.8552 - val_loss: 0.3468 - val_accuracy: 0.8667\n",
            "Epoch 48/1000\n",
            "536/536 [==============================] - 2s 3ms/step - loss: 0.3549 - accuracy: 0.8556 - val_loss: 0.3476 - val_accuracy: 0.8561\n",
            "Epoch 49/1000\n",
            "536/536 [==============================] - 2s 3ms/step - loss: 0.3560 - accuracy: 0.8569 - val_loss: 0.3469 - val_accuracy: 0.8656\n",
            "Epoch 50/1000\n",
            "536/536 [==============================] - 1s 3ms/step - loss: 0.3530 - accuracy: 0.8586 - val_loss: 0.3427 - val_accuracy: 0.8656\n",
            "Epoch 51/1000\n",
            "536/536 [==============================] - 2s 3ms/step - loss: 0.3516 - accuracy: 0.8591 - val_loss: 0.3456 - val_accuracy: 0.8599\n",
            "Epoch 52/1000\n",
            "536/536 [==============================] - 2s 3ms/step - loss: 0.3523 - accuracy: 0.8563 - val_loss: 0.3496 - val_accuracy: 0.8614\n",
            "Epoch 53/1000\n",
            "536/536 [==============================] - 2s 3ms/step - loss: 0.3537 - accuracy: 0.8556 - val_loss: 0.3477 - val_accuracy: 0.8626\n",
            "Epoch 54/1000\n",
            "536/536 [==============================] - 2s 3ms/step - loss: 0.3547 - accuracy: 0.8565 - val_loss: 0.3664 - val_accuracy: 0.8342\n",
            "Epoch 55/1000\n",
            "536/536 [==============================] - 2s 3ms/step - loss: 0.3564 - accuracy: 0.8530 - val_loss: 0.3469 - val_accuracy: 0.8527\n",
            "Epoch 56/1000\n",
            "536/536 [==============================] - 2s 3ms/step - loss: 0.3528 - accuracy: 0.8558 - val_loss: 0.3422 - val_accuracy: 0.8660\n",
            "Epoch 57/1000\n",
            "536/536 [==============================] - 2s 3ms/step - loss: 0.3537 - accuracy: 0.8571 - val_loss: 0.3450 - val_accuracy: 0.8633\n",
            "Epoch 58/1000\n",
            "536/536 [==============================] - 2s 3ms/step - loss: 0.3492 - accuracy: 0.8572 - val_loss: 0.3431 - val_accuracy: 0.8633\n",
            "Epoch 59/1000\n",
            "536/536 [==============================] - 2s 3ms/step - loss: 0.3497 - accuracy: 0.8582 - val_loss: 0.3558 - val_accuracy: 0.8421\n",
            "Epoch 60/1000\n",
            "536/536 [==============================] - 2s 3ms/step - loss: 0.3492 - accuracy: 0.8567 - val_loss: 0.3518 - val_accuracy: 0.8501\n",
            "Epoch 61/1000\n",
            "536/536 [==============================] - 2s 3ms/step - loss: 0.3520 - accuracy: 0.8561 - val_loss: 0.3505 - val_accuracy: 0.8501\n",
            "Epoch 62/1000\n",
            "536/536 [==============================] - 2s 3ms/step - loss: 0.3536 - accuracy: 0.8561 - val_loss: 0.3878 - val_accuracy: 0.8107\n",
            "Epoch 63/1000\n",
            "536/536 [==============================] - 2s 3ms/step - loss: 0.3491 - accuracy: 0.8576 - val_loss: 0.3444 - val_accuracy: 0.8584\n",
            "Epoch 64/1000\n",
            "536/536 [==============================] - 2s 3ms/step - loss: 0.3570 - accuracy: 0.8546 - val_loss: 0.3632 - val_accuracy: 0.8372\n",
            "Epoch 65/1000\n",
            "536/536 [==============================] - 2s 3ms/step - loss: 0.3507 - accuracy: 0.8600 - val_loss: 0.3429 - val_accuracy: 0.8663\n",
            "Epoch 66/1000\n",
            "536/536 [==============================] - 2s 4ms/step - loss: 0.3483 - accuracy: 0.8572 - val_loss: 0.3425 - val_accuracy: 0.8637\n",
            "Epoch 67/1000\n",
            "536/536 [==============================] - 2s 5ms/step - loss: 0.3506 - accuracy: 0.8558 - val_loss: 0.3444 - val_accuracy: 0.8644\n",
            "Epoch 68/1000\n",
            "536/536 [==============================] - 2s 4ms/step - loss: 0.3492 - accuracy: 0.8597 - val_loss: 0.3391 - val_accuracy: 0.8660\n",
            "Epoch 69/1000\n",
            "536/536 [==============================] - 2s 3ms/step - loss: 0.3475 - accuracy: 0.8617 - val_loss: 0.3445 - val_accuracy: 0.8633\n",
            "Epoch 70/1000\n",
            "536/536 [==============================] - 2s 3ms/step - loss: 0.3452 - accuracy: 0.8608 - val_loss: 0.3451 - val_accuracy: 0.8660\n",
            "Epoch 71/1000\n",
            "536/536 [==============================] - 2s 3ms/step - loss: 0.3501 - accuracy: 0.8602 - val_loss: 0.3462 - val_accuracy: 0.8569\n",
            "Epoch 72/1000\n",
            "536/536 [==============================] - 1s 3ms/step - loss: 0.3463 - accuracy: 0.8606 - val_loss: 0.3492 - val_accuracy: 0.8584\n",
            "Epoch 73/1000\n",
            "536/536 [==============================] - 1s 3ms/step - loss: 0.3503 - accuracy: 0.8582 - val_loss: 0.3482 - val_accuracy: 0.8569\n",
            "Epoch 74/1000\n",
            "536/536 [==============================] - 2s 3ms/step - loss: 0.3477 - accuracy: 0.8595 - val_loss: 0.3531 - val_accuracy: 0.8554\n",
            "Epoch 75/1000\n",
            "536/536 [==============================] - 2s 3ms/step - loss: 0.3486 - accuracy: 0.8619 - val_loss: 0.3448 - val_accuracy: 0.8584\n",
            "Epoch 76/1000\n",
            "536/536 [==============================] - 2s 3ms/step - loss: 0.3479 - accuracy: 0.8610 - val_loss: 0.3559 - val_accuracy: 0.8527\n",
            "Epoch 77/1000\n",
            "536/536 [==============================] - 2s 3ms/step - loss: 0.3447 - accuracy: 0.8627 - val_loss: 0.3433 - val_accuracy: 0.8626\n",
            "Epoch 78/1000\n",
            "536/536 [==============================] - 1s 3ms/step - loss: 0.3457 - accuracy: 0.8602 - val_loss: 0.3470 - val_accuracy: 0.8561\n",
            "Epoch 79/1000\n",
            "536/536 [==============================] - 1s 3ms/step - loss: 0.3437 - accuracy: 0.8632 - val_loss: 0.3438 - val_accuracy: 0.8629\n",
            "Epoch 80/1000\n",
            "536/536 [==============================] - 2s 3ms/step - loss: 0.3439 - accuracy: 0.8617 - val_loss: 0.3456 - val_accuracy: 0.8656\n",
            "Epoch 81/1000\n",
            "536/536 [==============================] - 2s 3ms/step - loss: 0.3483 - accuracy: 0.8604 - val_loss: 0.3482 - val_accuracy: 0.8565\n",
            "Epoch 82/1000\n",
            "536/536 [==============================] - 1s 3ms/step - loss: 0.3450 - accuracy: 0.8636 - val_loss: 0.3537 - val_accuracy: 0.8474\n",
            "Epoch 83/1000\n",
            "536/536 [==============================] - 1s 3ms/step - loss: 0.3510 - accuracy: 0.8619 - val_loss: 0.3441 - val_accuracy: 0.8591\n",
            "Epoch 84/1000\n",
            "536/536 [==============================] - 2s 3ms/step - loss: 0.3454 - accuracy: 0.8623 - val_loss: 0.3557 - val_accuracy: 0.8501\n",
            "Epoch 85/1000\n",
            "536/536 [==============================] - 2s 3ms/step - loss: 0.3468 - accuracy: 0.8640 - val_loss: 0.3578 - val_accuracy: 0.8482\n",
            "Epoch 86/1000\n",
            "536/536 [==============================] - 2s 3ms/step - loss: 0.3403 - accuracy: 0.8640 - val_loss: 0.3453 - val_accuracy: 0.8610\n",
            "Epoch 87/1000\n",
            "536/536 [==============================] - 2s 3ms/step - loss: 0.3442 - accuracy: 0.8632 - val_loss: 0.3501 - val_accuracy: 0.8523\n",
            "Epoch 88/1000\n",
            "536/536 [==============================] - 2s 3ms/step - loss: 0.3446 - accuracy: 0.8638 - val_loss: 0.3474 - val_accuracy: 0.8641\n",
            "Epoch 88: early stopping\n"
          ]
        }
      ]
    },
    {
      "cell_type": "code",
      "source": [
        "model_history.history.keys()"
      ],
      "metadata": {
        "colab": {
          "base_uri": "https://localhost:8080/"
        },
        "id": "tZkembk_PCa8",
        "outputId": "9faa7e95-d267-46a2-c01c-abfe72ee5b27"
      },
      "execution_count": 67,
      "outputs": [
        {
          "output_type": "execute_result",
          "data": {
            "text/plain": [
              "dict_keys(['loss', 'accuracy', 'val_loss', 'val_accuracy'])"
            ]
          },
          "metadata": {},
          "execution_count": 67
        }
      ]
    },
    {
      "cell_type": "code",
      "source": [
        "# summarize history for accuracy\n",
        "plt.plot(model_history.history['accuracy'])\n",
        "plt.plot(model_history.history['val_accuracy'])\n",
        "plt.title('model accuracy')\n",
        "plt.ylabel('accuracy')\n",
        "plt.xlabel('epochs')\n",
        "plt.legend(['train', 'test'], loc='upper left')\n",
        "plt.show()"
      ],
      "metadata": {
        "id": "PrS1R7MSPfUt",
        "colab": {
          "base_uri": "https://localhost:8080/",
          "height": 295
        },
        "outputId": "b6c3f494-a1e4-4b16-afda-207115c6f043"
      },
      "execution_count": 68,
      "outputs": [
        {
          "output_type": "display_data",
          "data": {
            "text/plain": [
              "<Figure size 432x288 with 1 Axes>"
            ],
            "image/png": "[encoded data removed]"
          },
          "metadata": {
            "needs_background": "light"
          }
        }
      ]
    },
    {
      "cell_type": "code",
      "source": [
        "# summarize history for accuracy\n",
        "plt.plot(model_history.history['loss'])\n",
        "plt.plot(model_history.history['val_loss'])\n",
        "plt.title('model loss')\n",
        "plt.ylabel('loss')\n",
        "plt.xlabel('epochs')\n",
        "plt.legend(['train', 'test'], loc='upper left')\n",
        "plt.show()"
      ],
      "metadata": {
        "colab": {
          "base_uri": "https://localhost:8080/",
          "height": 295
        },
        "id": "KqTfguoILDMR",
        "outputId": "d13c2667-3fc3-434e-ebb2-553fa21f23d6"
      },
      "execution_count": 69,
      "outputs": [
        {
          "output_type": "display_data",
          "data": {
            "text/plain": [
              "<Figure size 432x288 with 1 Axes>"
            ],
            "image/png": "[encoded data removed]"
          },
          "metadata": {
            "needs_background": "light"
          }
        }
      ]
    },
    {
      "cell_type": "code",
      "source": [
        "## Part 3 : Making prediction and evaluating the model\n",
        "\n",
        "# predicting the Test set results\n",
        "y_pred = classifier.predict(x_test)\n",
        "y_pred = (y_pred > 0.5)"
      ],
      "metadata": {
        "colab": {
          "base_uri": "https://localhost:8080/"
        },
        "id": "_APSdmiPLWF9",
        "outputId": "61d9c223-25b7-419f-e773-4640c391182c"
      },
      "execution_count": 70,
      "outputs": [
        {
          "output_type": "stream",
          "name": "stdout",
          "text": [
            "63/63 [==============================] - 0s 1ms/step\n"
          ]
        }
      ]
    },
    {
      "cell_type": "code",
      "source": [
        "# make the confusion matrix\n",
        "from sklearn.metrics import confusion_matrix\n",
        "cm = confusion_matrix(y_test, y_pred)\n",
        "cm"
      ],
      "metadata": {
        "colab": {
          "base_uri": "https://localhost:8080/"
        },
        "id": "Li-3F5QpL2r_",
        "outputId": "fbbe4582-df12-453c-9124-78b7c4b5f22b"
      },
      "execution_count": 71,
      "outputs": [
        {
          "output_type": "execute_result",
          "data": {
            "text/plain": [
              "array([[1560,   63],\n",
              "       [ 218,  159]])"
            ]
          },
          "metadata": {},
          "execution_count": 71
        }
      ]
    },
    {
      "cell_type": "code",
      "source": [
        "# calculate the accuracy\n",
        "from sklearn.metrics import accuracy_score\n",
        "score = accuracy_score(y_pred,y_test)"
      ],
      "metadata": {
        "id": "kn6thoaIMKfo"
      },
      "execution_count": 72,
      "outputs": []
    },
    {
      "cell_type": "code",
      "source": [
        "score"
      ],
      "metadata": {
        "colab": {
          "base_uri": "https://localhost:8080/"
        },
        "id": "p57ZDALZMZnp",
        "outputId": "d697abec-639b-4f64-9d08-843d046c5301"
      },
      "execution_count": 73,
      "outputs": [
        {
          "output_type": "execute_result",
          "data": {
            "text/plain": [
              "0.8595"
            ]
          },
          "metadata": {},
          "execution_count": 73
        }
      ]
    },
    {
      "cell_type": "code",
      "source": [
        "# get the weights\n",
        "classifier.get_weights()"
      ],
      "metadata": {
        "colab": {
          "base_uri": "https://localhost:8080/"
        },
        "id": "Y8GsGTBTMcul",
        "outputId": "1cacb82a-a07d-4afe-a8d0-f84eeffc9f3e"
      },
      "execution_count": 74,
      "outputs": [
        {
          "output_type": "execute_result",
          "data": {
            "text/plain": [
              "[array([[ 0.21637405, -0.58921057,  0.08387964, -0.40825993, -0.06713284,\n",
              "          0.08239921, -0.00798707, -0.21188973, -0.05218721,  0.26742294,\n",
              "          0.08919407],\n",
              "        [-0.6587387 , -0.27049816,  0.44668907,  1.0906291 , -0.10482974,\n",
              "          0.461158  ,  0.67332447,  0.16683228,  0.26689795, -0.19470695,\n",
              "         -0.5875553 ],\n",
              "        [-0.29517913, -0.296177  , -0.1026028 , -0.12462995, -0.10504565,\n",
              "          0.13129553,  0.08058447, -0.0847636 ,  0.08322486,  0.40081358,\n",
              "         -0.07241502],\n",
              "        [ 0.26024   , -0.0292225 , -0.06778385,  0.13568048, -1.1473306 ,\n",
              "         -0.5130373 ,  0.43186095, -0.14346524, -0.8190886 , -0.7027689 ,\n",
              "         -0.26010683],\n",
              "        [ 1.038146  ,  0.02011901, -1.2496226 ,  0.01015585,  0.08904731,\n",
              "         -0.04980826,  0.14505799,  1.3143175 , -1.0191681 , -0.10534287,\n",
              "          0.37858132],\n",
              "        [-0.33251515,  0.09375251,  0.15367296,  0.11154492, -0.48120925,\n",
              "          0.02285954,  0.08938073, -0.11719521, -0.05854643,  0.22203848,\n",
              "         -0.0875553 ],\n",
              "        [ 0.29385346, -0.3502102 , -0.12516429,  0.36567682, -0.02813257,\n",
              "          0.7998539 , -0.25140396,  0.19236399,  0.2248508 ,  0.24046801,\n",
              "          0.2848812 ],\n",
              "        [ 0.06305507,  0.36099717,  0.00999552,  0.00419765, -0.11410301,\n",
              "          0.02997255,  0.20839739,  0.01510861,  0.08149069, -0.09244043,\n",
              "          0.14061491],\n",
              "        [-0.07802577,  0.06823476, -0.03936007,  0.20949174,  0.513181  ,\n",
              "         -0.42844006,  0.5742014 , -0.53988445, -0.12284449, -0.5667027 ,\n",
              "         -0.00860363],\n",
              "        [-0.2926222 ,  0.4177886 ,  0.21277086, -0.18063854, -0.37171096,\n",
              "          0.36825848, -0.23994121,  0.304627  ,  0.17674823, -0.15014528,\n",
              "         -0.07050998],\n",
              "        [-0.39320856, -0.69564706,  0.14066115, -0.04737063,  0.3955552 ,\n",
              "         -0.12579262, -0.48872325,  0.05220605, -0.05806302, -0.03949692,\n",
              "          0.63678163]], dtype=float32),\n",
              " array([-0.09173199,  0.8337352 ,  0.6513595 , -0.4947961 ,  0.33176053,\n",
              "        -0.6520482 ,  0.2984685 , -0.47159892, -0.7132884 ,  0.8470666 ,\n",
              "         0.61298484], dtype=float32),\n",
              " array([[ 0.23671688, -0.81307703, -0.17921609, -0.9096181 ,  0.5081495 ,\n",
              "         -0.1629486 , -0.60312665],\n",
              "        [ 0.24587603, -0.96315956,  0.00172513,  0.29490596,  0.39696592,\n",
              "         -0.49792263,  0.32083672],\n",
              "        [ 0.2523217 , -0.43451616,  0.19975875, -1.085106  , -0.17990246,\n",
              "         -0.19128287, -0.9111022 ],\n",
              "        [-0.23587671,  0.65591824, -0.14386453,  0.21164043, -0.46996957,\n",
              "         -0.56393915, -0.15946852],\n",
              "        [ 0.6633742 , -0.28079197,  0.2283478 ,  0.05155956,  0.4593288 ,\n",
              "          0.3667033 ,  0.25915688],\n",
              "        [-0.8232042 ,  0.5807193 , -0.3907916 , -0.2523498 ,  0.12602986,\n",
              "         -0.759724  ,  0.47871068],\n",
              "        [ 0.5195429 ,  0.32193998, -1.0914533 , -0.38920853,  0.1554919 ,\n",
              "         -0.67750317, -0.14157325],\n",
              "        [ 0.8202489 ,  0.00948279,  0.322673  ,  0.30347547, -0.9911159 ,\n",
              "         -0.29947653,  0.21003808],\n",
              "        [ 0.32446814,  0.09748459, -0.57925683, -0.2500834 , -0.9446682 ,\n",
              "         -1.3718845 ,  0.14976197],\n",
              "        [ 0.19753134, -0.30444044,  0.13771515, -0.01766778,  0.5840881 ,\n",
              "          0.16567428, -0.07402947],\n",
              "        [ 0.0857271 ,  0.74168414,  0.22582398,  0.6965502 ,  0.41888788,\n",
              "          0.0327553 , -0.27922228]], dtype=float32),\n",
              " array([ 0.8384429 , -0.11288846, -0.15574066,  0.42096874,  0.4167902 ,\n",
              "         0.21538742,  0.06450702], dtype=float32),\n",
              " array([[-5.7292104e-01, -4.1147709e-01, -7.1758974e-01, -3.7023830e-01,\n",
              "          8.0247566e-02,  8.6213577e-01],\n",
              "        [ 2.4803188e-03,  5.5325395e-01,  1.1108073e+00,  8.0594466e-05,\n",
              "         -8.4548050e-01, -1.3732868e-01],\n",
              "        [-8.3669716e-01, -2.5299022e+00,  8.9679635e-01, -5.8633727e-01,\n",
              "          2.9315525e-01, -9.5523852e-01],\n",
              "        [ 4.7354701e-01,  1.0013812e+00,  1.0147403e+00,  3.2605234e-01,\n",
              "          4.8746142e-01, -1.0826795e-02],\n",
              "        [ 3.4938195e-01, -6.1235756e-01, -7.8671239e-02, -4.6689564e-01,\n",
              "          8.8425928e-01, -5.7874423e-01],\n",
              "        [-2.9372501e-01,  1.9094414e-01,  2.1790884e+00,  5.9030235e-01,\n",
              "          1.3987408e+00, -9.1124386e-01],\n",
              "        [-1.9474612e-03, -1.3387527e+00,  4.9213789e-02,  4.4302414e-03,\n",
              "          1.1820604e+00, -4.0138751e-01]], dtype=float32),\n",
              " array([-0.6517194 ,  0.0580868 ,  1.065513  , -0.3859574 , -0.24784474,\n",
              "         0.41414532], dtype=float32),\n",
              " array([[-0.47533718],\n",
              "        [-1.5161045 ],\n",
              "        [ 1.498836  ],\n",
              "        [-0.89220446],\n",
              "        [ 0.76212513],\n",
              "        [-1.1000738 ]], dtype=float32),\n",
              " array([-0.10287178], dtype=float32),\n",
              " array([[-0.8289703 , -0.19277972,  1.3779808 , -0.3645391 , -0.3957732 ,\n",
              "          1.1959306 , -0.79022145]], dtype=float32),\n",
              " array([ 0.        ,  0.        , -0.05605936,  0.        ,  0.        ,\n",
              "        -0.06244469,  0.        ], dtype=float32),\n",
              " array([[ 0.13343257, -0.06362492,  0.5321387 ,  0.33206064, -0.35664472,\n",
              "         -0.5873825 ,  0.5082433 ],\n",
              "        [-0.4251494 , -0.50120187, -0.46933204,  0.37605333, -0.29821604,\n",
              "          0.16619927,  0.18940598],\n",
              "        [-0.03371286,  0.6923103 ,  0.7315454 , -0.44580632, -0.1044659 ,\n",
              "         -0.54568875, -0.63615143],\n",
              "        [ 0.6499642 , -0.13929796,  0.10442984, -0.6502631 , -0.19820803,\n",
              "          0.21518254, -0.3194636 ],\n",
              "        [-0.3389396 , -0.10102803, -0.37927845, -0.62209505,  0.5245731 ,\n",
              "          0.27569848, -0.51986456],\n",
              "        [-0.01668561,  0.9276474 ,  0.59929615, -0.502759  , -0.47669864,\n",
              "          0.08940512, -0.19613886],\n",
              "        [-0.49061567, -0.42130733, -0.12043321, -0.5940311 ,  0.07304168,\n",
              "          0.32187492, -0.48121518]], dtype=float32),\n",
              " array([ 0.        , -0.03121814, -0.02708587,  0.        ,  0.        ,\n",
              "         0.        ,  0.        ], dtype=float32),\n",
              " array([[-0.24438742,  0.21186733,  0.4627521 ,  0.10058475, -0.21914107,\n",
              "          0.46030927, -0.6005168 ],\n",
              "        [ 0.36569127, -0.3020382 , -0.08722758, -0.5077384 ,  0.8412633 ,\n",
              "          0.57828486,  0.01945103],\n",
              "        [ 0.90292215, -0.33676773, -0.35394484, -0.37101328,  0.26423162,\n",
              "          0.7296187 ,  0.02868236],\n",
              "        [ 0.5647825 , -0.34748307, -0.08764374,  0.56377435,  0.59534574,\n",
              "         -0.6294413 , -0.3767741 ],\n",
              "        [ 0.05112547,  0.34954298, -0.29216492, -0.36476472, -0.33114225,\n",
              "          0.38521457, -0.6117996 ],\n",
              "        [ 0.28730565, -0.07951093, -0.28022936, -0.46019816,  0.65024984,\n",
              "          0.5120897 ,  0.2617451 ],\n",
              "        [-0.06244808,  0.40488732,  0.01985157,  0.58852863,  0.19290078,\n",
              "         -0.01548237,  0.4447912 ]], dtype=float32),\n",
              " array([-0.01399498,  0.        ,  0.        ,  0.        ,  0.00052964,\n",
              "        -0.01050519, -0.15894435], dtype=float32),\n",
              " array([[ 0.6566097 , -0.02837794, -0.30736122,  0.8805449 ,  0.06761513,\n",
              "          0.96322757, -0.23625185],\n",
              "        [ 0.46444035,  0.05359423, -0.6333271 , -0.15396106,  0.22512865,\n",
              "         -0.16050714,  0.24520355],\n",
              "        [-0.3384119 , -0.08810884,  0.43206966,  0.10101926,  0.09811836,\n",
              "          0.10276973,  0.4084655 ],\n",
              "        [-0.14323407, -0.4794649 , -0.39935443, -0.43490374,  0.45177054,\n",
              "          0.48740244,  0.22958076],\n",
              "        [-0.12039728, -0.2829458 ,  0.24082795,  1.056081  ,  0.50328094,\n",
              "          0.4137595 ,  0.03280921],\n",
              "        [ 0.72249055, -0.1722863 ,  0.8369115 ,  0.7486223 ,  0.78789204,\n",
              "          0.8785057 , -0.29470876],\n",
              "        [-0.00853494, -0.14753163,  0.06479617, -0.49414176,  0.07418647,\n",
              "          0.19162661,  0.53830713]], dtype=float32),\n",
              " array([-0.0896832 , -0.03071245, -0.14939924,  0.00115605,  0.02195395,\n",
              "        -0.0333744 ,  0.1930865 ], dtype=float32),\n",
              " array([[ 0.8294639 ,  0.74835974, -0.52820456,  0.07487548, -0.15192585,\n",
              "          0.16705412, -0.5501842 ],\n",
              "        [ 0.34297758, -0.3375675 ,  0.39826703,  0.13323843, -0.16124491,\n",
              "         -0.6306271 , -0.17857796],\n",
              "        [ 0.529447  ,  0.5672223 , -0.19845346,  0.44966593, -0.0195845 ,\n",
              "          0.3431883 , -0.75976956],\n",
              "        [ 0.25263992,  0.6362167 , -0.07901853,  0.5178972 ,  0.57924324,\n",
              "          0.58545077,  0.23278978],\n",
              "        [-0.3310118 ,  0.36738074, -0.30883318,  0.53378725, -0.01883164,\n",
              "          0.55003434, -0.46748275],\n",
              "        [ 0.7679808 ,  0.14282295,  0.49438187,  0.41139683,  0.80133975,\n",
              "          0.4599502 ,  0.37228847],\n",
              "        [-0.41900563, -0.1593809 ,  0.2548016 , -0.553809  , -0.40726236,\n",
              "         -0.16632809, -0.03265793]], dtype=float32),\n",
              " array([-1.5035629e-01,  9.1519738e-03, -7.9307951e-02,  7.6706722e-02,\n",
              "         4.4710498e-05,  9.4014341e-03, -1.3586916e-01], dtype=float32),\n",
              " array([[ 0.50757766, -0.2749944 ,  0.37869248,  0.20300041, -0.371238  ,\n",
              "          0.46747163],\n",
              "        [ 0.80297256, -0.3174623 , -0.24786754,  0.2665637 , -0.00646704,\n",
              "          0.3940985 ],\n",
              "        [-0.16408838, -0.05363854,  0.09151742, -0.4104449 , -0.4590916 ,\n",
              "         -0.24505575],\n",
              "        [ 0.43701714,  0.01651775,  0.49518806,  0.12194961, -0.56307507,\n",
              "          0.45230943],\n",
              "        [ 0.6893861 , -0.65097624,  0.5094103 ,  0.10942934, -0.4690773 ,\n",
              "          0.5535886 ],\n",
              "        [-0.26160136, -0.14187187,  0.65219706,  0.72149247, -0.33361477,\n",
              "          0.4270365 ],\n",
              "        [-0.06991941, -0.5359896 , -0.3955286 , -0.12210449, -0.677316  ,\n",
              "          0.58016425]], dtype=float32),\n",
              " array([ 0.00861508, -0.37926766,  0.01210609,  0.01779907, -0.06380561,\n",
              "        -1.6334403 ], dtype=float32),\n",
              " array([[-0.6915032 ],\n",
              "        [ 0.45810977],\n",
              "        [-0.58564633],\n",
              "        [-0.61797386],\n",
              "        [ 0.59360856],\n",
              "        [ 1.3198557 ]], dtype=float32),\n",
              " array([1.1173278], dtype=float32)]"
            ]
          },
          "metadata": {},
          "execution_count": 74
        }
      ]
    },
    {
      "cell_type": "code",
      "source": [],
      "metadata": {
        "id": "ilwquppXMtHj"
      },
      "execution_count": 74,
      "outputs": []
    }
  ]
}