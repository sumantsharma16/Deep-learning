{
  "nbformat": 4,
  "nbformat_minor": 0,
  "metadata": {
    "colab": {
      "provenance": [],
      "authorship_tag": "ABX9TyO1OUmS/u7CmofiJTWhgJkE",
      "include_colab_link": true
    },
    "kernelspec": {
      "name": "python3",
      "display_name": "Python 3"
    },
    "language_info": {
      "name": "python"
    }
  },
  "cells": [
    {
      "cell_type": "markdown",
      "metadata": {
        "id": "view-in-github",
        "colab_type": "text"
      },
      "source": [
        "<a href=\"https://colab.research.google.com/github/sumantsharma16/Deep-learning/blob/sumantsharma16-machinelearning/imputing_numerical_data.ipynb\" target=\"_parent\"><img src=\"https://colab.research.google.com/assets/colab-badge.svg\" alt=\"Open In Colab\"/></a>"
      ]
    },
    {
      "cell_type": "code",
      "execution_count": 3,
      "metadata": {
        "id": "9BfcZ1UKH2w3"
      },
      "outputs": [],
      "source": [
        "import pandas as pd\n",
        "import numpy as np\n",
        "import matplotlib.pyplot as plt\n"
      ]
    },
    {
      "cell_type": "code",
      "source": [
        "from sklearn.model_selection import train_test_split\n",
        "from sklearn.impute import SimpleImputer\n",
        "from sklearn.compose import ColumnTransformer"
      ],
      "metadata": {
        "id": "7El0F8sFZtSc"
      },
      "execution_count": 5,
      "outputs": []
    },
    {
      "cell_type": "code",
      "source": [
        "df = pd.read_csv('https://raw.githubusercontent.com/campusx-official/100-days-of-machine-learning/main/day36-imputing-numerical-data/titanic_toy.csv')"
      ],
      "metadata": {
        "id": "lzEts88WZ-qj"
      },
      "execution_count": 6,
      "outputs": []
    },
    {
      "cell_type": "code",
      "source": [
        "df.head()"
      ],
      "metadata": {
        "colab": {
          "base_uri": "https://localhost:8080/",
          "height": 206
        },
        "id": "-J2dHQRPaNW3",
        "outputId": "8117c90f-da35-48fd-8714-77f7c92be812"
      },
      "execution_count": 7,
      "outputs": [
        {
          "output_type": "execute_result",
          "data": {
            "text/plain": [
              "    Age     Fare  Family  Survived\n",
              "0  22.0   7.2500       1         0\n",
              "1  38.0  71.2833       1         1\n",
              "2  26.0   7.9250       0         1\n",
              "3  35.0  53.1000       1         1\n",
              "4  35.0   8.0500       0         0"
            ],
            "text/html": [
              "\n",
              "  <div id=\"df-c2aada2e-9666-437b-89c0-e9bf8bdf4642\">\n",
              "    <div class=\"colab-df-container\">\n",
              "      <div>\n",
              "<style scoped>\n",
              "    .dataframe tbody tr th:only-of-type {\n",
              "        vertical-align: middle;\n",
              "    }\n",
              "\n",
              "    .dataframe tbody tr th {\n",
              "        vertical-align: top;\n",
              "    }\n",
              "\n",
              "    .dataframe thead th {\n",
              "        text-align: right;\n",
              "    }\n",
              "</style>\n",
              "<table border=\"1\" class=\"dataframe\">\n",
              "  <thead>\n",
              "    <tr style=\"text-align: right;\">\n",
              "      <th></th>\n",
              "      <th>Age</th>\n",
              "      <th>Fare</th>\n",
              "      <th>Family</th>\n",
              "      <th>Survived</th>\n",
              "    </tr>\n",
              "  </thead>\n",
              "  <tbody>\n",
              "    <tr>\n",
              "      <th>0</th>\n",
              "      <td>22.0</td>\n",
              "      <td>7.2500</td>\n",
              "      <td>1</td>\n",
              "      <td>0</td>\n",
              "    </tr>\n",
              "    <tr>\n",
              "      <th>1</th>\n",
              "      <td>38.0</td>\n",
              "      <td>71.2833</td>\n",
              "      <td>1</td>\n",
              "      <td>1</td>\n",
              "    </tr>\n",
              "    <tr>\n",
              "      <th>2</th>\n",
              "      <td>26.0</td>\n",
              "      <td>7.9250</td>\n",
              "      <td>0</td>\n",
              "      <td>1</td>\n",
              "    </tr>\n",
              "    <tr>\n",
              "      <th>3</th>\n",
              "      <td>35.0</td>\n",
              "      <td>53.1000</td>\n",
              "      <td>1</td>\n",
              "      <td>1</td>\n",
              "    </tr>\n",
              "    <tr>\n",
              "      <th>4</th>\n",
              "      <td>35.0</td>\n",
              "      <td>8.0500</td>\n",
              "      <td>0</td>\n",
              "      <td>0</td>\n",
              "    </tr>\n",
              "  </tbody>\n",
              "</table>\n",
              "</div>\n",
              "      <button class=\"colab-df-convert\" onclick=\"convertToInteractive('df-c2aada2e-9666-437b-89c0-e9bf8bdf4642')\"\n",
              "              title=\"Convert this dataframe to an interactive table.\"\n",
              "              style=\"display:none;\">\n",
              "        \n",
              "  <svg xmlns=\"http://www.w3.org/2000/svg\" height=\"24px\"viewBox=\"0 0 24 24\"\n",
              "       width=\"24px\">\n",
              "    <path d=\"M0 0h24v24H0V0z\" fill=\"none\"/>\n",
              "    <path d=\"M18.56 5.44l.94 2.06.94-2.06 2.06-.94-2.06-.94-.94-2.06-.94 2.06-2.06.94zm-11 1L8.5 8.5l.94-2.06 2.06-.94-2.06-.94L8.5 2.5l-.94 2.06-2.06.94zm10 10l.94 2.06.94-2.06 2.06-.94-2.06-.94-.94-2.06-.94 2.06-2.06.94z\"/><path d=\"M17.41 7.96l-1.37-1.37c-.4-.4-.92-.59-1.43-.59-.52 0-1.04.2-1.43.59L10.3 9.45l-7.72 7.72c-.78.78-.78 2.05 0 2.83L4 21.41c.39.39.9.59 1.41.59.51 0 1.02-.2 1.41-.59l7.78-7.78 2.81-2.81c.8-.78.8-2.07 0-2.86zM5.41 20L4 18.59l7.72-7.72 1.47 1.35L5.41 20z\"/>\n",
              "  </svg>\n",
              "      </button>\n",
              "      \n",
              "  <style>\n",
              "    .colab-df-container {\n",
              "      display:flex;\n",
              "      flex-wrap:wrap;\n",
              "      gap: 12px;\n",
              "    }\n",
              "\n",
              "    .colab-df-convert {\n",
              "      background-color: #E8F0FE;\n",
              "      border: none;\n",
              "      border-radius: 50%;\n",
              "      cursor: pointer;\n",
              "      display: none;\n",
              "      fill: #1967D2;\n",
              "      height: 32px;\n",
              "      padding: 0 0 0 0;\n",
              "      width: 32px;\n",
              "    }\n",
              "\n",
              "    .colab-df-convert:hover {\n",
              "      background-color: #E2EBFA;\n",
              "      box-shadow: 0px 1px 2px rgba(60, 64, 67, 0.3), 0px 1px 3px 1px rgba(60, 64, 67, 0.15);\n",
              "      fill: #174EA6;\n",
              "    }\n",
              "\n",
              "    [theme=dark] .colab-df-convert {\n",
              "      background-color: #3B4455;\n",
              "      fill: #D2E3FC;\n",
              "    }\n",
              "\n",
              "    [theme=dark] .colab-df-convert:hover {\n",
              "      background-color: #434B5C;\n",
              "      box-shadow: 0px 1px 3px 1px rgba(0, 0, 0, 0.15);\n",
              "      filter: drop-shadow(0px 1px 2px rgba(0, 0, 0, 0.3));\n",
              "      fill: #FFFFFF;\n",
              "    }\n",
              "  </style>\n",
              "\n",
              "      <script>\n",
              "        const buttonEl =\n",
              "          document.querySelector('#df-c2aada2e-9666-437b-89c0-e9bf8bdf4642 button.colab-df-convert');\n",
              "        buttonEl.style.display =\n",
              "          google.colab.kernel.accessAllowed ? 'block' : 'none';\n",
              "\n",
              "        async function convertToInteractive(key) {\n",
              "          const element = document.querySelector('#df-c2aada2e-9666-437b-89c0-e9bf8bdf4642');\n",
              "          const dataTable =\n",
              "            await google.colab.kernel.invokeFunction('convertToInteractive',\n",
              "                                                     [key], {});\n",
              "          if (!dataTable) return;\n",
              "\n",
              "          const docLinkHtml = 'Like what you see? Visit the ' +\n",
              "            '<a target=\"_blank\" href=https://colab.research.google.com/notebooks/data_table.ipynb>data table notebook</a>'\n",
              "            + ' to learn more about interactive tables.';\n",
              "          element.innerHTML = '';\n",
              "          dataTable['output_type'] = 'display_data';\n",
              "          await google.colab.output.renderOutput(dataTable, element);\n",
              "          const docLink = document.createElement('div');\n",
              "          docLink.innerHTML = docLinkHtml;\n",
              "          element.appendChild(docLink);\n",
              "        }\n",
              "      </script>\n",
              "    </div>\n",
              "  </div>\n",
              "  "
            ]
          },
          "metadata": {},
          "execution_count": 7
        }
      ]
    },
    {
      "cell_type": "code",
      "source": [
        "df.isnull().sum()"
      ],
      "metadata": {
        "colab": {
          "base_uri": "https://localhost:8080/"
        },
        "id": "H3JnMBZHaRoG",
        "outputId": "a48b2a1b-515a-4ad2-a5e6-098c76aba447"
      },
      "execution_count": 8,
      "outputs": [
        {
          "output_type": "execute_result",
          "data": {
            "text/plain": [
              "Age         177\n",
              "Fare         45\n",
              "Family        0\n",
              "Survived      0\n",
              "dtype: int64"
            ]
          },
          "metadata": {},
          "execution_count": 8
        }
      ]
    },
    {
      "cell_type": "code",
      "source": [
        "df.isnull().mean()"
      ],
      "metadata": {
        "colab": {
          "base_uri": "https://localhost:8080/"
        },
        "id": "fRCylaGfaT9u",
        "outputId": "eb306152-c0a1-4c91-a539-076a7bfa38b2"
      },
      "execution_count": 9,
      "outputs": [
        {
          "output_type": "execute_result",
          "data": {
            "text/plain": [
              "Age         0.198653\n",
              "Fare        0.050505\n",
              "Family      0.000000\n",
              "Survived    0.000000\n",
              "dtype: float64"
            ]
          },
          "metadata": {},
          "execution_count": 9
        }
      ]
    },
    {
      "cell_type": "code",
      "source": [
        "x = df.drop(columns=['Survived'])\n",
        "y = df['Survived']"
      ],
      "metadata": {
        "id": "GwDcGiS1aWtG"
      },
      "execution_count": 11,
      "outputs": []
    },
    {
      "cell_type": "code",
      "source": [
        "x_train, x_test, y_train, y_test = train_test_split(x,y, test_size=0.2, random_state=29)"
      ],
      "metadata": {
        "id": "-T48J6a4an0S"
      },
      "execution_count": 12,
      "outputs": []
    },
    {
      "cell_type": "code",
      "source": [
        "x_train['Age_99'] = x_train['Age'].fillna(99)\n",
        "x_train['Age_minus1'] = x_train['Age'].fillna(-1)\n",
        "\n",
        "x_train['Fare_999'] = x_train['Fare'].fillna(999)\n",
        "x_train['Fare_minus1'] = x_train['Fare'].fillna(-1)"
      ],
      "metadata": {
        "id": "C8fZmkVpbH4H"
      },
      "execution_count": 16,
      "outputs": []
    },
    {
      "cell_type": "code",
      "source": [
        "print('Original Age variable variance: ', x_train['Age'].var())\n",
        "print('Age Variance after 99 wala imputation: ', x_train['Age_99'].var())\n",
        "print('Age Variance after -1 wala imputation: ', x_train['Age_minus1'].var())\n",
        "\n",
        "print('Original Fare variable variance: ', x_train['Fare'].var())\n",
        "print('Fare Variance after 999 wala imputation: ', x_train['Fare_999'].var())\n",
        "print('Fare Variance after -1 wala imputation: ', x_train['Fare_minus1'].var())"
      ],
      "metadata": {
        "colab": {
          "base_uri": "https://localhost:8080/"
        },
        "id": "kT1F4FIMdgty",
        "outputId": "2ddd754e-2a81-4da0-8617-8cf3b37b74ed"
      },
      "execution_count": 17,
      "outputs": [
        {
          "output_type": "stream",
          "name": "stdout",
          "text": [
            "Original Age variable variance:  208.36194841704437\n",
            "Age Variance after 99 wala imputation:  931.394020570608\n",
            "Age Variance after -1 wala imputation:  318.86740826636805\n",
            "Original Fare variable variance:  2665.6328174141468\n",
            "Fare Variance after 999 wala imputation:  45131.069615502405\n",
            "Fare Variance after -1 wala imputation:  2587.3330528196825\n"
          ]
        }
      ]
    },
    {
      "cell_type": "code",
      "source": [
        "fig = plt.figure()\n",
        "ax = fig.add_subplot(111)\n",
        "\n",
        "x_train['Age'].plot(kind='kde', ax=ax)\n",
        "\n",
        "x_train['Age_99'].plot(kind='kde', ax=ax, color='red')\n",
        "\n",
        "x_train['Age_minus1'].plot(kind='kde', ax=ax, color='green')\n",
        "\n",
        "lines, labels = ax.get_legend_handles_labels()\n",
        "ax.legend(lines, labels, loc='best')"
      ],
      "metadata": {
        "colab": {
          "base_uri": "https://localhost:8080/",
          "height": 282
        },
        "id": "yTonPyi8d3N0",
        "outputId": "fc77c474-4408-418f-9eb3-8a6a891b4548"
      },
      "execution_count": 18,
      "outputs": [
        {
          "output_type": "execute_result",
          "data": {
            "text/plain": [
              "<matplotlib.legend.Legend at 0x7f7b1b40ded0>"
            ]
          },
          "metadata": {},
          "execution_count": 18
        },
        {
          "output_type": "display_data",
          "data": {
            "text/plain": [
              "<Figure size 432x288 with 1 Axes>"
            ],
            "image/png": "[encoded data removed]"
          },
          "metadata": {
            "needs_background": "light"
          }
        }
      ]
    },
    {
      "cell_type": "code",
      "source": [
        "fig = plt.figure()\n",
        "ax = fig.add_subplot(111)\n",
        "\n",
        "x_train['Fare'].plot(kind='kde', ax=ax)\n",
        "\n",
        "x_train['Fare_999'].plot(kind='kde', ax=ax, color='red')\n",
        "\n",
        "x_train['Fare_minus1'].plot(kind='kde', ax=ax, color='green')\n",
        "\n",
        "lines, labels = ax.get_legend_handles_labels()\n",
        "ax.legend(lines, labels, loc='best')"
      ],
      "metadata": {
        "colab": {
          "base_uri": "https://localhost:8080/",
          "height": 282
        },
        "id": "pJyHlPR5gUai",
        "outputId": "77e88c7c-d1cb-463d-d754-55c0aaf02602"
      },
      "execution_count": 23,
      "outputs": [
        {
          "output_type": "execute_result",
          "data": {
            "text/plain": [
              "<matplotlib.legend.Legend at 0x7f7b1abeca10>"
            ]
          },
          "metadata": {},
          "execution_count": 23
        },
        {
          "output_type": "display_data",
          "data": {
            "text/plain": [
              "<Figure size 432x288 with 1 Axes>"
            ],
            "image/png": "[encoded data removed]"
          },
          "metadata": {
            "needs_background": "light"
          }
        }
      ]
    },
    {
      "cell_type": "code",
      "source": [
        "x_train.cov()"
      ],
      "metadata": {
        "colab": {
          "base_uri": "https://localhost:8080/",
          "height": 364
        },
        "id": "j2ARXCrygmRh",
        "outputId": "58ee95fa-49f7-4e9f-aa0a-70708d4746b6"
      },
      "execution_count": 24,
      "outputs": [
        {
          "output_type": "execute_result",
          "data": {
            "text/plain": [
              "                    Age         Fare     Family      Age_99  Age_minus1  \\\n",
              "Age          208.361948    55.828631  -6.610128  208.361948  208.361948   \n",
              "Fare          55.828631  2665.632817  16.880770  -93.613780  105.847921   \n",
              "Family        -6.610128    16.880770   2.407574   -7.298908   -4.393916   \n",
              "Age_99       208.361948   -93.613780  -7.298908  931.394021 -174.305117   \n",
              "Age_minus1   208.361948   105.847921  -4.393916 -174.305117  318.867408   \n",
              "Fare_999     148.199791  2665.632817  21.014000 -180.265951  251.904713   \n",
              "Fare_minus    49.493319  2665.632817  15.905670  -86.040892   95.651730   \n",
              "Fare_minus1   49.493319  2665.632817  15.905670  -86.040892   95.651730   \n",
              "\n",
              "                 Fare_999   Fare_minus  Fare_minus1  \n",
              "Age            148.199791    49.493319    49.493319  \n",
              "Fare          2665.632817  2665.632817  2665.632817  \n",
              "Family          21.014000    15.905670    15.905670  \n",
              "Age_99        -180.265951   -86.040892   -86.040892  \n",
              "Age_minus1     251.904713    95.651730    95.651730  \n",
              "Fare_999     45131.069616  1090.984390  1090.984390  \n",
              "Fare_minus    1090.984390  2587.333053  2587.333053  \n",
              "Fare_minus1   1090.984390  2587.333053  2587.333053  "
            ],
            "text/html": [
              "\n",
              "  <div id=\"df-910cff83-ad9b-40e6-94ff-6c0de07197c7\">\n",
              "    <div class=\"colab-df-container\">\n",
              "      <div>\n",
              "<style scoped>\n",
              "    .dataframe tbody tr th:only-of-type {\n",
              "        vertical-align: middle;\n",
              "    }\n",
              "\n",
              "    .dataframe tbody tr th {\n",
              "        vertical-align: top;\n",
              "    }\n",
              "\n",
              "    .dataframe thead th {\n",
              "        text-align: right;\n",
              "    }\n",
              "</style>\n",
              "<table border=\"1\" class=\"dataframe\">\n",
              "  <thead>\n",
              "    <tr style=\"text-align: right;\">\n",
              "      <th></th>\n",
              "      <th>Age</th>\n",
              "      <th>Fare</th>\n",
              "      <th>Family</th>\n",
              "      <th>Age_99</th>\n",
              "      <th>Age_minus1</th>\n",
              "      <th>Fare_999</th>\n",
              "      <th>Fare_minus</th>\n",
              "      <th>Fare_minus1</th>\n",
              "    </tr>\n",
              "  </thead>\n",
              "  <tbody>\n",
              "    <tr>\n",
              "      <th>Age</th>\n",
              "      <td>208.361948</td>\n",
              "      <td>55.828631</td>\n",
              "      <td>-6.610128</td>\n",
              "      <td>208.361948</td>\n",
              "      <td>208.361948</td>\n",
              "      <td>148.199791</td>\n",
              "      <td>49.493319</td>\n",
              "      <td>49.493319</td>\n",
              "    </tr>\n",
              "    <tr>\n",
              "      <th>Fare</th>\n",
              "      <td>55.828631</td>\n",
              "      <td>2665.632817</td>\n",
              "      <td>16.880770</td>\n",
              "      <td>-93.613780</td>\n",
              "      <td>105.847921</td>\n",
              "      <td>2665.632817</td>\n",
              "      <td>2665.632817</td>\n",
              "      <td>2665.632817</td>\n",
              "    </tr>\n",
              "    <tr>\n",
              "      <th>Family</th>\n",
              "      <td>-6.610128</td>\n",
              "      <td>16.880770</td>\n",
              "      <td>2.407574</td>\n",
              "      <td>-7.298908</td>\n",
              "      <td>-4.393916</td>\n",
              "      <td>21.014000</td>\n",
              "      <td>15.905670</td>\n",
              "      <td>15.905670</td>\n",
              "    </tr>\n",
              "    <tr>\n",
              "      <th>Age_99</th>\n",
              "      <td>208.361948</td>\n",
              "      <td>-93.613780</td>\n",
              "      <td>-7.298908</td>\n",
              "      <td>931.394021</td>\n",
              "      <td>-174.305117</td>\n",
              "      <td>-180.265951</td>\n",
              "      <td>-86.040892</td>\n",
              "      <td>-86.040892</td>\n",
              "    </tr>\n",
              "    <tr>\n",
              "      <th>Age_minus1</th>\n",
              "      <td>208.361948</td>\n",
              "      <td>105.847921</td>\n",
              "      <td>-4.393916</td>\n",
              "      <td>-174.305117</td>\n",
              "      <td>318.867408</td>\n",
              "      <td>251.904713</td>\n",
              "      <td>95.651730</td>\n",
              "      <td>95.651730</td>\n",
              "    </tr>\n",
              "    <tr>\n",
              "      <th>Fare_999</th>\n",
              "      <td>148.199791</td>\n",
              "      <td>2665.632817</td>\n",
              "      <td>21.014000</td>\n",
              "      <td>-180.265951</td>\n",
              "      <td>251.904713</td>\n",
              "      <td>45131.069616</td>\n",
              "      <td>1090.984390</td>\n",
              "      <td>1090.984390</td>\n",
              "    </tr>\n",
              "    <tr>\n",
              "      <th>Fare_minus</th>\n",
              "      <td>49.493319</td>\n",
              "      <td>2665.632817</td>\n",
              "      <td>15.905670</td>\n",
              "      <td>-86.040892</td>\n",
              "      <td>95.651730</td>\n",
              "      <td>1090.984390</td>\n",
              "      <td>2587.333053</td>\n",
              "      <td>2587.333053</td>\n",
              "    </tr>\n",
              "    <tr>\n",
              "      <th>Fare_minus1</th>\n",
              "      <td>49.493319</td>\n",
              "      <td>2665.632817</td>\n",
              "      <td>15.905670</td>\n",
              "      <td>-86.040892</td>\n",
              "      <td>95.651730</td>\n",
              "      <td>1090.984390</td>\n",
              "      <td>2587.333053</td>\n",
              "      <td>2587.333053</td>\n",
              "    </tr>\n",
              "  </tbody>\n",
              "</table>\n",
              "</div>\n",
              "      <button class=\"colab-df-convert\" onclick=\"convertToInteractive('df-910cff83-ad9b-40e6-94ff-6c0de07197c7')\"\n",
              "              title=\"Convert this dataframe to an interactive table.\"\n",
              "              style=\"display:none;\">\n",
              "        \n",
              "  <svg xmlns=\"http://www.w3.org/2000/svg\" height=\"24px\"viewBox=\"0 0 24 24\"\n",
              "       width=\"24px\">\n",
              "    <path d=\"M0 0h24v24H0V0z\" fill=\"none\"/>\n",
              "    <path d=\"M18.56 5.44l.94 2.06.94-2.06 2.06-.94-2.06-.94-.94-2.06-.94 2.06-2.06.94zm-11 1L8.5 8.5l.94-2.06 2.06-.94-2.06-.94L8.5 2.5l-.94 2.06-2.06.94zm10 10l.94 2.06.94-2.06 2.06-.94-2.06-.94-.94-2.06-.94 2.06-2.06.94z\"/><path d=\"M17.41 7.96l-1.37-1.37c-.4-.4-.92-.59-1.43-.59-.52 0-1.04.2-1.43.59L10.3 9.45l-7.72 7.72c-.78.78-.78 2.05 0 2.83L4 21.41c.39.39.9.59 1.41.59.51 0 1.02-.2 1.41-.59l7.78-7.78 2.81-2.81c.8-.78.8-2.07 0-2.86zM5.41 20L4 18.59l7.72-7.72 1.47 1.35L5.41 20z\"/>\n",
              "  </svg>\n",
              "      </button>\n",
              "      \n",
              "  <style>\n",
              "    .colab-df-container {\n",
              "      display:flex;\n",
              "      flex-wrap:wrap;\n",
              "      gap: 12px;\n",
              "    }\n",
              "\n",
              "    .colab-df-convert {\n",
              "      background-color: #E8F0FE;\n",
              "      border: none;\n",
              "      border-radius: 50%;\n",
              "      cursor: pointer;\n",
              "      display: none;\n",
              "      fill: #1967D2;\n",
              "      height: 32px;\n",
              "      padding: 0 0 0 0;\n",
              "      width: 32px;\n",
              "    }\n",
              "\n",
              "    .colab-df-convert:hover {\n",
              "      background-color: #E2EBFA;\n",
              "      box-shadow: 0px 1px 2px rgba(60, 64, 67, 0.3), 0px 1px 3px 1px rgba(60, 64, 67, 0.15);\n",
              "      fill: #174EA6;\n",
              "    }\n",
              "\n",
              "    [theme=dark] .colab-df-convert {\n",
              "      background-color: #3B4455;\n",
              "      fill: #D2E3FC;\n",
              "    }\n",
              "\n",
              "    [theme=dark] .colab-df-convert:hover {\n",
              "      background-color: #434B5C;\n",
              "      box-shadow: 0px 1px 3px 1px rgba(0, 0, 0, 0.15);\n",
              "      filter: drop-shadow(0px 1px 2px rgba(0, 0, 0, 0.3));\n",
              "      fill: #FFFFFF;\n",
              "    }\n",
              "  </style>\n",
              "\n",
              "      <script>\n",
              "        const buttonEl =\n",
              "          document.querySelector('#df-910cff83-ad9b-40e6-94ff-6c0de07197c7 button.colab-df-convert');\n",
              "        buttonEl.style.display =\n",
              "          google.colab.kernel.accessAllowed ? 'block' : 'none';\n",
              "\n",
              "        async function convertToInteractive(key) {\n",
              "          const element = document.querySelector('#df-910cff83-ad9b-40e6-94ff-6c0de07197c7');\n",
              "          const dataTable =\n",
              "            await google.colab.kernel.invokeFunction('convertToInteractive',\n",
              "                                                     [key], {});\n",
              "          if (!dataTable) return;\n",
              "\n",
              "          const docLinkHtml = 'Like what you see? Visit the ' +\n",
              "            '<a target=\"_blank\" href=https://colab.research.google.com/notebooks/data_table.ipynb>data table notebook</a>'\n",
              "            + ' to learn more about interactive tables.';\n",
              "          element.innerHTML = '';\n",
              "          dataTable['output_type'] = 'display_data';\n",
              "          await google.colab.output.renderOutput(dataTable, element);\n",
              "          const docLink = document.createElement('div');\n",
              "          docLink.innerHTML = docLinkHtml;\n",
              "          element.appendChild(docLink);\n",
              "        }\n",
              "      </script>\n",
              "    </div>\n",
              "  </div>\n",
              "  "
            ]
          },
          "metadata": {},
          "execution_count": 24
        }
      ]
    },
    {
      "cell_type": "code",
      "source": [
        "x_train.corr()"
      ],
      "metadata": {
        "colab": {
          "base_uri": "https://localhost:8080/",
          "height": 364
        },
        "id": "B7AqTVoKhb5p",
        "outputId": "ba0adaae-e946-4644-d909-ecd252a95dd9"
      },
      "execution_count": 26,
      "outputs": [
        {
          "output_type": "execute_result",
          "data": {
            "text/plain": [
              "                  Age      Fare    Family    Age_99  Age_minus1  Fare_999  \\\n",
              "Age          1.000000  0.069494 -0.319991  1.000000    1.000000  0.046895   \n",
              "Fare         0.069494  1.000000  0.209154 -0.059078    0.114604  1.000000   \n",
              "Family      -0.319991  0.209154  1.000000 -0.154135   -0.158583  0.063750   \n",
              "Age_99       1.000000 -0.059078 -0.154135  1.000000   -0.319844 -0.027804   \n",
              "Age_minus1   1.000000  0.114604 -0.158583 -0.319844    1.000000  0.066404   \n",
              "Fare_999     0.046895  1.000000  0.063750 -0.027804    0.066404  1.000000   \n",
              "Fare_minus   0.062825  1.000000  0.201528 -0.055426    0.105308  0.100961   \n",
              "Fare_minus1  0.062825  1.000000  0.201528 -0.055426    0.105308  0.100961   \n",
              "\n",
              "             Fare_minus  Fare_minus1  \n",
              "Age            0.062825     0.062825  \n",
              "Fare           1.000000     1.000000  \n",
              "Family         0.201528     0.201528  \n",
              "Age_99        -0.055426    -0.055426  \n",
              "Age_minus1     0.105308     0.105308  \n",
              "Fare_999       0.100961     0.100961  \n",
              "Fare_minus     1.000000     1.000000  \n",
              "Fare_minus1    1.000000     1.000000  "
            ],
            "text/html": [
              "\n",
              "  <div id=\"df-4652ac63-6820-4120-9486-55988d165685\">\n",
              "    <div class=\"colab-df-container\">\n",
              "      <div>\n",
              "<style scoped>\n",
              "    .dataframe tbody tr th:only-of-type {\n",
              "        vertical-align: middle;\n",
              "    }\n",
              "\n",
              "    .dataframe tbody tr th {\n",
              "        vertical-align: top;\n",
              "    }\n",
              "\n",
              "    .dataframe thead th {\n",
              "        text-align: right;\n",
              "    }\n",
              "</style>\n",
              "<table border=\"1\" class=\"dataframe\">\n",
              "  <thead>\n",
              "    <tr style=\"text-align: right;\">\n",
              "      <th></th>\n",
              "      <th>Age</th>\n",
              "      <th>Fare</th>\n",
              "      <th>Family</th>\n",
              "      <th>Age_99</th>\n",
              "      <th>Age_minus1</th>\n",
              "      <th>Fare_999</th>\n",
              "      <th>Fare_minus</th>\n",
              "      <th>Fare_minus1</th>\n",
              "    </tr>\n",
              "  </thead>\n",
              "  <tbody>\n",
              "    <tr>\n",
              "      <th>Age</th>\n",
              "      <td>1.000000</td>\n",
              "      <td>0.069494</td>\n",
              "      <td>-0.319991</td>\n",
              "      <td>1.000000</td>\n",
              "      <td>1.000000</td>\n",
              "      <td>0.046895</td>\n",
              "      <td>0.062825</td>\n",
              "      <td>0.062825</td>\n",
              "    </tr>\n",
              "    <tr>\n",
              "      <th>Fare</th>\n",
              "      <td>0.069494</td>\n",
              "      <td>1.000000</td>\n",
              "      <td>0.209154</td>\n",
              "      <td>-0.059078</td>\n",
              "      <td>0.114604</td>\n",
              "      <td>1.000000</td>\n",
              "      <td>1.000000</td>\n",
              "      <td>1.000000</td>\n",
              "    </tr>\n",
              "    <tr>\n",
              "      <th>Family</th>\n",
              "      <td>-0.319991</td>\n",
              "      <td>0.209154</td>\n",
              "      <td>1.000000</td>\n",
              "      <td>-0.154135</td>\n",
              "      <td>-0.158583</td>\n",
              "      <td>0.063750</td>\n",
              "      <td>0.201528</td>\n",
              "      <td>0.201528</td>\n",
              "    </tr>\n",
              "    <tr>\n",
              "      <th>Age_99</th>\n",
              "      <td>1.000000</td>\n",
              "      <td>-0.059078</td>\n",
              "      <td>-0.154135</td>\n",
              "      <td>1.000000</td>\n",
              "      <td>-0.319844</td>\n",
              "      <td>-0.027804</td>\n",
              "      <td>-0.055426</td>\n",
              "      <td>-0.055426</td>\n",
              "    </tr>\n",
              "    <tr>\n",
              "      <th>Age_minus1</th>\n",
              "      <td>1.000000</td>\n",
              "      <td>0.114604</td>\n",
              "      <td>-0.158583</td>\n",
              "      <td>-0.319844</td>\n",
              "      <td>1.000000</td>\n",
              "      <td>0.066404</td>\n",
              "      <td>0.105308</td>\n",
              "      <td>0.105308</td>\n",
              "    </tr>\n",
              "    <tr>\n",
              "      <th>Fare_999</th>\n",
              "      <td>0.046895</td>\n",
              "      <td>1.000000</td>\n",
              "      <td>0.063750</td>\n",
              "      <td>-0.027804</td>\n",
              "      <td>0.066404</td>\n",
              "      <td>1.000000</td>\n",
              "      <td>0.100961</td>\n",
              "      <td>0.100961</td>\n",
              "    </tr>\n",
              "    <tr>\n",
              "      <th>Fare_minus</th>\n",
              "      <td>0.062825</td>\n",
              "      <td>1.000000</td>\n",
              "      <td>0.201528</td>\n",
              "      <td>-0.055426</td>\n",
              "      <td>0.105308</td>\n",
              "      <td>0.100961</td>\n",
              "      <td>1.000000</td>\n",
              "      <td>1.000000</td>\n",
              "    </tr>\n",
              "    <tr>\n",
              "      <th>Fare_minus1</th>\n",
              "      <td>0.062825</td>\n",
              "      <td>1.000000</td>\n",
              "      <td>0.201528</td>\n",
              "      <td>-0.055426</td>\n",
              "      <td>0.105308</td>\n",
              "      <td>0.100961</td>\n",
              "      <td>1.000000</td>\n",
              "      <td>1.000000</td>\n",
              "    </tr>\n",
              "  </tbody>\n",
              "</table>\n",
              "</div>\n",
              "      <button class=\"colab-df-convert\" onclick=\"convertToInteractive('df-4652ac63-6820-4120-9486-55988d165685')\"\n",
              "              title=\"Convert this dataframe to an interactive table.\"\n",
              "              style=\"display:none;\">\n",
              "        \n",
              "  <svg xmlns=\"http://www.w3.org/2000/svg\" height=\"24px\"viewBox=\"0 0 24 24\"\n",
              "       width=\"24px\">\n",
              "    <path d=\"M0 0h24v24H0V0z\" fill=\"none\"/>\n",
              "    <path d=\"M18.56 5.44l.94 2.06.94-2.06 2.06-.94-2.06-.94-.94-2.06-.94 2.06-2.06.94zm-11 1L8.5 8.5l.94-2.06 2.06-.94-2.06-.94L8.5 2.5l-.94 2.06-2.06.94zm10 10l.94 2.06.94-2.06 2.06-.94-2.06-.94-.94-2.06-.94 2.06-2.06.94z\"/><path d=\"M17.41 7.96l-1.37-1.37c-.4-.4-.92-.59-1.43-.59-.52 0-1.04.2-1.43.59L10.3 9.45l-7.72 7.72c-.78.78-.78 2.05 0 2.83L4 21.41c.39.39.9.59 1.41.59.51 0 1.02-.2 1.41-.59l7.78-7.78 2.81-2.81c.8-.78.8-2.07 0-2.86zM5.41 20L4 18.59l7.72-7.72 1.47 1.35L5.41 20z\"/>\n",
              "  </svg>\n",
              "      </button>\n",
              "      \n",
              "  <style>\n",
              "    .colab-df-container {\n",
              "      display:flex;\n",
              "      flex-wrap:wrap;\n",
              "      gap: 12px;\n",
              "    }\n",
              "\n",
              "    .colab-df-convert {\n",
              "      background-color: #E8F0FE;\n",
              "      border: none;\n",
              "      border-radius: 50%;\n",
              "      cursor: pointer;\n",
              "      display: none;\n",
              "      fill: #1967D2;\n",
              "      height: 32px;\n",
              "      padding: 0 0 0 0;\n",
              "      width: 32px;\n",
              "    }\n",
              "\n",
              "    .colab-df-convert:hover {\n",
              "      background-color: #E2EBFA;\n",
              "      box-shadow: 0px 1px 2px rgba(60, 64, 67, 0.3), 0px 1px 3px 1px rgba(60, 64, 67, 0.15);\n",
              "      fill: #174EA6;\n",
              "    }\n",
              "\n",
              "    [theme=dark] .colab-df-convert {\n",
              "      background-color: #3B4455;\n",
              "      fill: #D2E3FC;\n",
              "    }\n",
              "\n",
              "    [theme=dark] .colab-df-convert:hover {\n",
              "      background-color: #434B5C;\n",
              "      box-shadow: 0px 1px 3px 1px rgba(0, 0, 0, 0.15);\n",
              "      filter: drop-shadow(0px 1px 2px rgba(0, 0, 0, 0.3));\n",
              "      fill: #FFFFFF;\n",
              "    }\n",
              "  </style>\n",
              "\n",
              "      <script>\n",
              "        const buttonEl =\n",
              "          document.querySelector('#df-4652ac63-6820-4120-9486-55988d165685 button.colab-df-convert');\n",
              "        buttonEl.style.display =\n",
              "          google.colab.kernel.accessAllowed ? 'block' : 'none';\n",
              "\n",
              "        async function convertToInteractive(key) {\n",
              "          const element = document.querySelector('#df-4652ac63-6820-4120-9486-55988d165685');\n",
              "          const dataTable =\n",
              "            await google.colab.kernel.invokeFunction('convertToInteractive',\n",
              "                                                     [key], {});\n",
              "          if (!dataTable) return;\n",
              "\n",
              "          const docLinkHtml = 'Like what you see? Visit the ' +\n",
              "            '<a target=\"_blank\" href=https://colab.research.google.com/notebooks/data_table.ipynb>data table notebook</a>'\n",
              "            + ' to learn more about interactive tables.';\n",
              "          element.innerHTML = '';\n",
              "          dataTable['output_type'] = 'display_data';\n",
              "          await google.colab.output.renderOutput(dataTable, element);\n",
              "          const docLink = document.createElement('div');\n",
              "          docLink.innerHTML = docLinkHtml;\n",
              "          element.appendChild(docLink);\n",
              "        }\n",
              "      </script>\n",
              "    </div>\n",
              "  </div>\n",
              "  "
            ]
          },
          "metadata": {},
          "execution_count": 26
        }
      ]
    },
    {
      "cell_type": "code",
      "source": [
        "x_train, x_test, y_train, y_test = train_test_split(x, y, test_size=0.2, random_state=39)"
      ],
      "metadata": {
        "id": "M7Ln-KN_hgJ3"
      },
      "execution_count": 27,
      "outputs": []
    },
    {
      "cell_type": "code",
      "source": [
        "imputer1 = SimpleImputer(strategy='constant', fill_value=99)\n",
        "imputer2 = SimpleImputer(strategy='constant', fill_value=999)"
      ],
      "metadata": {
        "id": "V5yf5NCOh8J7"
      },
      "execution_count": 29,
      "outputs": []
    },
    {
      "cell_type": "code",
      "source": [
        "trf = ColumnTransformer([\n",
        "    ('imputer1',imputer1,['Age']),\n",
        "    ('imputer2',imputer2,['Fare'])\n",
        "],remainder='passthrough')"
      ],
      "metadata": {
        "id": "HcsdUtg7i3JP"
      },
      "execution_count": 30,
      "outputs": []
    },
    {
      "cell_type": "code",
      "source": [
        "trf.fit(x_train)"
      ],
      "metadata": {
        "colab": {
          "base_uri": "https://localhost:8080/"
        },
        "id": "nMO-zAPhja51",
        "outputId": "9cde0834-6ea0-4bbd-f339-52c03ca9ba5c"
      },
      "execution_count": 31,
      "outputs": [
        {
          "output_type": "execute_result",
          "data": {
            "text/plain": [
              "ColumnTransformer(remainder='passthrough',\n",
              "                  transformers=[('imputer1',\n",
              "                                 SimpleImputer(fill_value=99,\n",
              "                                               strategy='constant'),\n",
              "                                 ['Age']),\n",
              "                                ('imputer2',\n",
              "                                 SimpleImputer(fill_value=999,\n",
              "                                               strategy='constant'),\n",
              "                                 ['Fare'])])"
            ]
          },
          "metadata": {},
          "execution_count": 31
        }
      ]
    },
    {
      "cell_type": "code",
      "source": [
        "trf.named_transformers_['imputer1'].statistics_"
      ],
      "metadata": {
        "colab": {
          "base_uri": "https://localhost:8080/"
        },
        "id": "b_5hK0NOjdiD",
        "outputId": "d6b349ae-e5f7-4051-a914-d49f38f42434"
      },
      "execution_count": 32,
      "outputs": [
        {
          "output_type": "execute_result",
          "data": {
            "text/plain": [
              "array([99.])"
            ]
          },
          "metadata": {},
          "execution_count": 32
        }
      ]
    },
    {
      "cell_type": "code",
      "source": [
        "trf.named_transformers_['imputer1'].statistics_"
      ],
      "metadata": {
        "colab": {
          "base_uri": "https://localhost:8080/"
        },
        "id": "QfuOLN00joV5",
        "outputId": "8eaf0197-cdff-45dd-e781-fbb32a583884"
      },
      "execution_count": 33,
      "outputs": [
        {
          "output_type": "execute_result",
          "data": {
            "text/plain": [
              "array([99.])"
            ]
          },
          "metadata": {},
          "execution_count": 33
        }
      ]
    },
    {
      "cell_type": "code",
      "source": [
        "x_train"
      ],
      "metadata": {
        "colab": {
          "base_uri": "https://localhost:8080/",
          "height": 424
        },
        "id": "pZCFgOYOjs6n",
        "outputId": "d44923f7-07d0-4935-c4cf-dbbec161df71"
      },
      "execution_count": 34,
      "outputs": [
        {
          "output_type": "execute_result",
          "data": {
            "text/plain": [
              "      Age      Fare  Family\n",
              "129  45.0    6.9750       0\n",
              "793   NaN   30.6958       0\n",
              "701  35.0   26.2875       0\n",
              "601   NaN    7.8958       0\n",
              "344  36.0   13.0000       0\n",
              "..    ...       ...     ...\n",
              "582  54.0   26.0000       0\n",
              "64    NaN   27.7208       0\n",
              "41   27.0   21.0000       1\n",
              "105  28.0    7.8958       0\n",
              "393  23.0  113.2750       1\n",
              "\n",
              "[712 rows x 3 columns]"
            ],
            "text/html": [
              "\n",
              "  <div id=\"df-4e540bbb-d11e-46cf-9733-b15106007ddd\">\n",
              "    <div class=\"colab-df-container\">\n",
              "      <div>\n",
              "<style scoped>\n",
              "    .dataframe tbody tr th:only-of-type {\n",
              "        vertical-align: middle;\n",
              "    }\n",
              "\n",
              "    .dataframe tbody tr th {\n",
              "        vertical-align: top;\n",
              "    }\n",
              "\n",
              "    .dataframe thead th {\n",
              "        text-align: right;\n",
              "    }\n",
              "</style>\n",
              "<table border=\"1\" class=\"dataframe\">\n",
              "  <thead>\n",
              "    <tr style=\"text-align: right;\">\n",
              "      <th></th>\n",
              "      <th>Age</th>\n",
              "      <th>Fare</th>\n",
              "      <th>Family</th>\n",
              "    </tr>\n",
              "  </thead>\n",
              "  <tbody>\n",
              "    <tr>\n",
              "      <th>129</th>\n",
              "      <td>45.0</td>\n",
              "      <td>6.9750</td>\n",
              "      <td>0</td>\n",
              "    </tr>\n",
              "    <tr>\n",
              "      <th>793</th>\n",
              "      <td>NaN</td>\n",
              "      <td>30.6958</td>\n",
              "      <td>0</td>\n",
              "    </tr>\n",
              "    <tr>\n",
              "      <th>701</th>\n",
              "      <td>35.0</td>\n",
              "      <td>26.2875</td>\n",
              "      <td>0</td>\n",
              "    </tr>\n",
              "    <tr>\n",
              "      <th>601</th>\n",
              "      <td>NaN</td>\n",
              "      <td>7.8958</td>\n",
              "      <td>0</td>\n",
              "    </tr>\n",
              "    <tr>\n",
              "      <th>344</th>\n",
              "      <td>36.0</td>\n",
              "      <td>13.0000</td>\n",
              "      <td>0</td>\n",
              "    </tr>\n",
              "    <tr>\n",
              "      <th>...</th>\n",
              "      <td>...</td>\n",
              "      <td>...</td>\n",
              "      <td>...</td>\n",
              "    </tr>\n",
              "    <tr>\n",
              "      <th>582</th>\n",
              "      <td>54.0</td>\n",
              "      <td>26.0000</td>\n",
              "      <td>0</td>\n",
              "    </tr>\n",
              "    <tr>\n",
              "      <th>64</th>\n",
              "      <td>NaN</td>\n",
              "      <td>27.7208</td>\n",
              "      <td>0</td>\n",
              "    </tr>\n",
              "    <tr>\n",
              "      <th>41</th>\n",
              "      <td>27.0</td>\n",
              "      <td>21.0000</td>\n",
              "      <td>1</td>\n",
              "    </tr>\n",
              "    <tr>\n",
              "      <th>105</th>\n",
              "      <td>28.0</td>\n",
              "      <td>7.8958</td>\n",
              "      <td>0</td>\n",
              "    </tr>\n",
              "    <tr>\n",
              "      <th>393</th>\n",
              "      <td>23.0</td>\n",
              "      <td>113.2750</td>\n",
              "      <td>1</td>\n",
              "    </tr>\n",
              "  </tbody>\n",
              "</table>\n",
              "<p>712 rows × 3 columns</p>\n",
              "</div>\n",
              "      <button class=\"colab-df-convert\" onclick=\"convertToInteractive('df-4e540bbb-d11e-46cf-9733-b15106007ddd')\"\n",
              "              title=\"Convert this dataframe to an interactive table.\"\n",
              "              style=\"display:none;\">\n",
              "        \n",
              "  <svg xmlns=\"http://www.w3.org/2000/svg\" height=\"24px\"viewBox=\"0 0 24 24\"\n",
              "       width=\"24px\">\n",
              "    <path d=\"M0 0h24v24H0V0z\" fill=\"none\"/>\n",
              "    <path d=\"M18.56 5.44l.94 2.06.94-2.06 2.06-.94-2.06-.94-.94-2.06-.94 2.06-2.06.94zm-11 1L8.5 8.5l.94-2.06 2.06-.94-2.06-.94L8.5 2.5l-.94 2.06-2.06.94zm10 10l.94 2.06.94-2.06 2.06-.94-2.06-.94-.94-2.06-.94 2.06-2.06.94z\"/><path d=\"M17.41 7.96l-1.37-1.37c-.4-.4-.92-.59-1.43-.59-.52 0-1.04.2-1.43.59L10.3 9.45l-7.72 7.72c-.78.78-.78 2.05 0 2.83L4 21.41c.39.39.9.59 1.41.59.51 0 1.02-.2 1.41-.59l7.78-7.78 2.81-2.81c.8-.78.8-2.07 0-2.86zM5.41 20L4 18.59l7.72-7.72 1.47 1.35L5.41 20z\"/>\n",
              "  </svg>\n",
              "      </button>\n",
              "      \n",
              "  <style>\n",
              "    .colab-df-container {\n",
              "      display:flex;\n",
              "      flex-wrap:wrap;\n",
              "      gap: 12px;\n",
              "    }\n",
              "\n",
              "    .colab-df-convert {\n",
              "      background-color: #E8F0FE;\n",
              "      border: none;\n",
              "      border-radius: 50%;\n",
              "      cursor: pointer;\n",
              "      display: none;\n",
              "      fill: #1967D2;\n",
              "      height: 32px;\n",
              "      padding: 0 0 0 0;\n",
              "      width: 32px;\n",
              "    }\n",
              "\n",
              "    .colab-df-convert:hover {\n",
              "      background-color: #E2EBFA;\n",
              "      box-shadow: 0px 1px 2px rgba(60, 64, 67, 0.3), 0px 1px 3px 1px rgba(60, 64, 67, 0.15);\n",
              "      fill: #174EA6;\n",
              "    }\n",
              "\n",
              "    [theme=dark] .colab-df-convert {\n",
              "      background-color: #3B4455;\n",
              "      fill: #D2E3FC;\n",
              "    }\n",
              "\n",
              "    [theme=dark] .colab-df-convert:hover {\n",
              "      background-color: #434B5C;\n",
              "      box-shadow: 0px 1px 3px 1px rgba(0, 0, 0, 0.15);\n",
              "      filter: drop-shadow(0px 1px 2px rgba(0, 0, 0, 0.3));\n",
              "      fill: #FFFFFF;\n",
              "    }\n",
              "  </style>\n",
              "\n",
              "      <script>\n",
              "        const buttonEl =\n",
              "          document.querySelector('#df-4e540bbb-d11e-46cf-9733-b15106007ddd button.colab-df-convert');\n",
              "        buttonEl.style.display =\n",
              "          google.colab.kernel.accessAllowed ? 'block' : 'none';\n",
              "\n",
              "        async function convertToInteractive(key) {\n",
              "          const element = document.querySelector('#df-4e540bbb-d11e-46cf-9733-b15106007ddd');\n",
              "          const dataTable =\n",
              "            await google.colab.kernel.invokeFunction('convertToInteractive',\n",
              "                                                     [key], {});\n",
              "          if (!dataTable) return;\n",
              "\n",
              "          const docLinkHtml = 'Like what you see? Visit the ' +\n",
              "            '<a target=\"_blank\" href=https://colab.research.google.com/notebooks/data_table.ipynb>data table notebook</a>'\n",
              "            + ' to learn more about interactive tables.';\n",
              "          element.innerHTML = '';\n",
              "          dataTable['output_type'] = 'display_data';\n",
              "          await google.colab.output.renderOutput(dataTable, element);\n",
              "          const docLink = document.createElement('div');\n",
              "          docLink.innerHTML = docLinkHtml;\n",
              "          element.appendChild(docLink);\n",
              "        }\n",
              "      </script>\n",
              "    </div>\n",
              "  </div>\n",
              "  "
            ]
          },
          "metadata": {},
          "execution_count": 34
        }
      ]
    },
    {
      "cell_type": "code",
      "source": [],
      "metadata": {
        "id": "Bkxf3qs3jvix"
      },
      "execution_count": null,
      "outputs": []
    }
  ]
}